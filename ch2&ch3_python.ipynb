{
 "cells": [
  {
   "cell_type": "code",
   "execution_count": 1,
   "metadata": {},
   "outputs": [
    {
     "name": "stdout",
     "output_type": "stream",
     "text": [
      "55\n",
      "55\n",
      "55\n"
     ]
    }
   ],
   "source": [
    "# loop\n",
    "# 1부터 10까지의 합\n",
    "\n",
    "# 1\n",
    "sum1 = 0\n",
    "for i in range(1, 10 + 1):\n",
    "    sum1 += i\n",
    "print(sum1)\n",
    "\n",
    "# 2\n",
    "sum2 = sum(i for i in range(1, 10 + 1))\n",
    "print(sum2)\n",
    "\n",
    "# 3\n",
    "sum3 = sum(range(1, 10 + 1))\n",
    "print(sum3)"
   ]
  },
  {
   "cell_type": "markdown",
   "metadata": {},
   "source": [
    "### Type Hint & generic programming"
   ]
  },
  {
   "cell_type": "code",
   "execution_count": null,
   "metadata": {},
   "outputs": [],
   "source": [
    "# 타입을 명시하여 가독성을 올리고 버그유발 가능성을 줄인다.\n",
    "# 그러나 강제 규약은 아니여서 동적으로 다른 타입이 할당될 수 있으므로 주의\n",
    "a : str = \"a\"\n",
    "b : int = 1\n",
    "\n",
    "def fn(x):\n",
    "    pass\n",
    "def fn(x : int) -> int:\n",
    "    pass\n",
    "\n",
    "\n",
    "# generic programming(파라미터 타입을 나중에 지정하도록)\n",
    "from typing import TypeVar\n",
    "\n",
    "T = TypeVar('T')\n",
    "U = TypeVar('U')\n",
    "\n",
    "def are_equal(a : T, b : U) -> bool:\n",
    "    return a == b\n",
    "\n",
    "are_equal"
   ]
  },
  {
   "cell_type": "code",
   "execution_count": 4,
   "metadata": {},
   "outputs": [
    {
     "name": "stdout",
     "output_type": "stream",
     "text": [
      "a\n",
      "b\n",
      "c\n"
     ]
    }
   ],
   "source": [
    "# iterate through array\n",
    "foo = ['a','b','c']\n",
    "for i in foo:\n",
    "    print(i)"
   ]
  },
  {
   "cell_type": "markdown",
   "metadata": {},
   "source": [
    "### lambda expression -> list comprehension"
   ]
  },
  {
   "cell_type": "code",
   "execution_count": null,
   "metadata": {},
   "outputs": [],
   "source": [
    "print(\n",
    "    list(map(lambda x : x + 10, [1,2,3]))\n",
    ")\n",
    "print(\n",
    "    [n * 2 for n in range(1, 10 + 1) if n % 2 == 1]\n",
    ")\n",
    "\n",
    "# a = {key : value for key, value in original.items()}"
   ]
  },
  {
   "cell_type": "markdown",
   "metadata": {},
   "source": [
    "### generator"
   ]
  },
  {
   "cell_type": "code",
   "execution_count": 6,
   "metadata": {},
   "outputs": [
    {
     "name": "stdout",
     "output_type": "stream",
     "text": [
      "12345678910\n",
      " [1, 'string', True]\n"
     ]
    }
   ],
   "source": [
    " def get_natural_num():\n",
    "    n = 0\n",
    "    while True:\n",
    "        n += 1\n",
    "        yield n\n",
    "\n",
    "g = get_natural_num()\n",
    "for _ in range(10):\n",
    "    print(next(g), end = '')\n",
    "    \n",
    "# 다른 type의 값을 하나의 제너레이터에서 출력 가능\n",
    "def generator():\n",
    "    yield 1\n",
    "    yield 'string'\n",
    "    yield True\n",
    "    \n",
    "g = generator()\n",
    "print( \n",
    "    '\\n',\n",
    "    [ next(g) for _ in range(3)]\n",
    ")    "
   ]
  },
  {
   "cell_type": "markdown",
   "metadata": {},
   "source": [
    "### range"
   ]
  },
  {
   "cell_type": "code",
   "execution_count": 8,
   "metadata": {},
   "outputs": [
    {
     "name": "stdout",
     "output_type": "stream",
     "text": [
      "<class 'range'>\n",
      "1000000\n",
      "1000000\n",
      "\n",
      "\n",
      "8697464\n",
      "48\n"
     ]
    },
    {
     "data": {
      "text/plain": [
       "999"
      ]
     },
     "execution_count": 8,
     "metadata": {},
     "output_type": "execute_result"
    }
   ],
   "source": [
    "print(type(range(5)))\n",
    "\n",
    "a = [n for n in range(1000000)]\n",
    "b = range(1000000)\n",
    "print(len(a));print(len(b)) # same\n",
    "\n",
    "# memory share\n",
    "import sys\n",
    "print('\\n')\n",
    "print(sys.getsizeof(a))\n",
    "print(sys.getsizeof(b))\n",
    "\n",
    "# indexing from range class\n",
    "b[999]"
   ]
  },
  {
   "cell_type": "markdown",
   "metadata": {},
   "source": [
    "### enumerate"
   ]
  },
  {
   "cell_type": "code",
   "execution_count": 10,
   "metadata": {},
   "outputs": [
    {
     "name": "stdout",
     "output_type": "stream",
     "text": [
      "0 a\n",
      "1 b\n",
      "2 c\n",
      "[(0, 'a'), (1, 'b'), (2, 'c')]\n"
     ]
    }
   ],
   "source": [
    "a = ['a','b','c']\n",
    "for i, v in enumerate(a):\n",
    "    print(i,v)\n",
    "    \n",
    "print(\n",
    "    list(enumerate(a)) # 반복가능객체를 인덱스를 쌍으로 붙인 튜플을 개별원소로 갖도록 변경\n",
    ")"
   ]
  },
  {
   "cell_type": "markdown",
   "metadata": {},
   "source": [
    "### 나눗셈 연산자"
   ]
  },
  {
   "cell_type": "markdown",
   "metadata": {},
   "source": [
    "// : 몫\n",
    "\n",
    "a//b \n",
    "= int(a/b)\n",
    "\n",
    "% : 나머지\n",
    "\n",
    "divmod(5,3) : (몫, 나머지)"
   ]
  },
  {
   "cell_type": "markdown",
   "metadata": {},
   "source": [
    "### print function"
   ]
  },
  {
   "cell_type": "code",
   "execution_count": 11,
   "metadata": {},
   "outputs": [
    {
     "name": "stdout",
     "output_type": "stream",
     "text": [
      "a1 b1\n",
      "a1,b1\n",
      "aa bb\n",
      "a1 b1\n",
      "2: Apple\n",
      "2: Apple\n"
     ]
    }
   ],
   "source": [
    "print('a1','b1')\n",
    "print('a1','b1', sep = \",\")\n",
    "\n",
    "print('aa',end=' ')\n",
    "print('bb')\n",
    "\n",
    "a = ['a1','b1']\n",
    "print(' '.join(a))\n",
    "\n",
    "idx = 1\n",
    "fruit = \"Apple\"\n",
    "print( '{0}: {1}'.format(idx + 1, fruit) )\n",
    "\n",
    "# f-string\n",
    "print(f'{idx + 1}: {fruit}')"
   ]
  },
  {
   "cell_type": "code",
   "execution_count": 5,
   "metadata": {},
   "outputs": [
    {
     "name": "stdout",
     "output_type": "stream",
     "text": [
      "Collecting dataclasses\n",
      "  Downloading dataclasses-0.6-py3-none-any.whl (14 kB)\n",
      "Installing collected packages: dataclasses\n",
      "Successfully installed dataclasses-0.6\n"
     ]
    }
   ],
   "source": [
    "# struct\n",
    "# !pip install dataclasses\n",
    "from dataclasses import dataclass\n",
    "\n",
    "@dataclass\n",
    "class Product:\n",
    "    weight: int = None\n",
    "    price: float = None\n",
    "\n",
    "apple = Product()\n",
    "Product.price = 10"
   ]
  },
  {
   "cell_type": "code",
   "execution_count": 9,
   "metadata": {},
   "outputs": [
    {
     "name": "stdout",
     "output_type": "stream",
     "text": [
      "12\n"
     ]
    }
   ],
   "source": [
    "# class\n",
    "\n",
    "@dataclass # 없어도 무방\n",
    "class Rectangle:\n",
    "    width: int\n",
    "    height: int\n",
    "    \n",
    "    def area(self):\n",
    "        return self.width * self.height\n",
    "    \n",
    "rect = Rectangle(3,4)\n",
    "print(rect.area())"
   ]
  },
  {
   "cell_type": "markdown",
   "metadata": {},
   "source": [
    "### pass "
   ]
  },
  {
   "cell_type": "code",
   "execution_count": null,
   "metadata": {},
   "outputs": [],
   "source": [
    "class MyClass(object):\n",
    "    def method_a(self):\n",
    "        pass # Null Operation\n",
    "    def method_b(self):\n",
    "        print('B')\n",
    "\n",
    "c = MyClass()"
   ]
  },
  {
   "cell_type": "markdown",
   "metadata": {},
   "source": [
    "### locals"
   ]
  },
  {
   "cell_type": "code",
   "execution_count": 14,
   "metadata": {},
   "outputs": [
    {
     "name": "stdout",
     "output_type": "stream",
     "text": [
      "{'__annotations__': {'height': <class 'int'>, 'width': <class 'int'>},\n",
      " '__module__': '__main__',\n",
      " '__qualname__': 'Rectangle',\n",
      " 'area': <function Rectangle.area at 0x000001F6F9766828>}\n"
     ]
    }
   ],
   "source": [
    "import pprint\n",
    "from dataclasses import dataclass\n",
    "\n",
    "@dataclass \n",
    "class Rectangle:\n",
    "    width: int\n",
    "    height: int\n",
    "    \n",
    "    def area(self):\n",
    "        return self.width * self.height\n",
    "    pprint.pprint(locals()) # local scope 내의 모든 변수 정보 출력 (클래스 - 속성, 메소드 등)"
   ]
  }
 ],
 "metadata": {
  "kernelspec": {
   "display_name": "Python 3",
   "language": "python",
   "name": "python3"
  },
  "language_info": {
   "codemirror_mode": {
    "name": "ipython",
    "version": 3
   },
   "file_extension": ".py",
   "mimetype": "text/x-python",
   "name": "python",
   "nbconvert_exporter": "python",
   "pygments_lexer": "ipython3",
   "version": "3.7.6"
  }
 },
 "nbformat": 4,
 "nbformat_minor": 4
}
