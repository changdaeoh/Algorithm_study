{
 "cells": [
  {
   "cell_type": "markdown",
   "metadata": {},
   "source": [
    "# q37 부분집합\n",
    "https://leetcode.com/problems/subsets/"
   ]
  },
  {
   "cell_type": "code",
   "execution_count": 1,
   "metadata": {},
   "outputs": [],
   "source": [
    "nums = [1,2,3]"
   ]
  },
  {
   "cell_type": "code",
   "execution_count": 2,
   "metadata": {},
   "outputs": [],
   "source": [
    "from typing import List\n",
    "\n",
    "# sol 1 : DFS graph search\n",
    "class Solution:\n",
    "    def subsets(self, nums: List[int]) -> List[List[int]]:\n",
    "        result = []\n",
    "\n",
    "        def dfs(index, path):\n",
    "            result.append(path)\n",
    "\n",
    "            for i in range(index, len(nums)):\n",
    "                dfs(i + 1, path + [nums[i]])\n",
    "\n",
    "        dfs(0, [])\n",
    "        return result"
   ]
  },
  {
   "cell_type": "code",
   "execution_count": 43,
   "metadata": {},
   "outputs": [
    {
     "data": {
      "text/plain": [
       "[[], [1], [2], [1, 2], [3], [1, 3], [2, 3], [1, 2, 3]]"
      ]
     },
     "execution_count": 43,
     "metadata": {},
     "output_type": "execute_result"
    }
   ],
   "source": [
    "# solution 2\n",
    "def subsets(nums: List[int]) -> List[List[int]]:\n",
    "    result = [[]]\n",
    "    for num in nums:\n",
    "        result = result + [curr + [num] for curr in result]  \n",
    "    return result\n",
    "\n",
    "subsets([1,2,3])"
   ]
  },
  {
   "cell_type": "code",
   "execution_count": 42,
   "metadata": {},
   "outputs": [
    {
     "data": {
      "text/plain": [
       "{1: [2, 3], 2: [3], 3: []}"
      ]
     },
     "execution_count": 42,
     "metadata": {},
     "output_type": "execute_result"
    }
   ],
   "source": [
    "graph = { key:nums[i+1:] for i,key in enumerate(nums) }\n",
    "graph"
   ]
  },
  {
   "cell_type": "markdown",
   "metadata": {},
   "source": [
    "# q38 일정재구성\n",
    "https://leetcode.com/problems/reconstruct-itinerary/"
   ]
  },
  {
   "cell_type": "code",
   "execution_count": null,
   "metadata": {},
   "outputs": [],
   "source": [
    "import collections\n",
    "from typing import List\n",
    "\n",
    "# sol 1\n",
    "class Solution:\n",
    "    def findItinerary(self, tickets: List[List[str]]) -> List[str]:\n",
    "        graph = collections.defaultdict(list)\n",
    "        for a, b in sorted(tickets):\n",
    "            graph[a].append(b)          # 같은키면 값을 append하여 생성\n",
    "\n",
    "        route = []\n",
    "\n",
    "        def dfs(a):\n",
    "            while graph[a]:\n",
    "                dfs(graph[a].pop(0))\n",
    "            route.append(a)             # 가장 마지막에 도달한 공항부터 축차적 append\n",
    "\n",
    "        dfs('JFK')\n",
    "        return route[::-1]              # 뒤집어 방문순서를 맞춰 결과 반환\n",
    "    \n",
    "\n",
    "# pop(0)과 pop()의 성능차이를 고려한 최적화. list에서 pop()은 O(1), pop(0)은 O(N)\n",
    "# class Solution:\n",
    "#     def findItinerary(self, tickets: List[List[str]]) -> List[str]:\n",
    "#         graph = collections.defaultdict(list)\n",
    "#         # 그래프를 뒤집어서 구성\n",
    "#         for a, b in sorted(tickets, reverse=True):\n",
    "#             graph[a].append(b)\n",
    "\n",
    "#         route = []\n",
    "\n",
    "#         def dfs(a):\n",
    "#             # 마지막 값을 읽어(pop()) 어휘순 방문 \n",
    "#             while graph[a]:\n",
    "#                 dfs(graph[a].pop())\n",
    "#             route.append(a)\n",
    "\n",
    "#         dfs('JFK')\n",
    "#         return route[::-1]"
   ]
  },
  {
   "cell_type": "code",
   "execution_count": null,
   "metadata": {},
   "outputs": [],
   "source": [
    "import collections\n",
    "from typing import List\n",
    "\n",
    "# sol 1\n",
    "class Solution:\n",
    "    def findItinerary(self, tickets: List[List[str]]) -> List[str]:\n",
    "        graph = collections.defaultdict(list)\n",
    "        for a, b in sorted(tickets):\n",
    "            graph[a].append(b)          # 같은키면 값을 append하여 생성\n",
    "\n",
    "        route = []\n",
    "\n",
    "        def dfs(a):\n",
    "            while graph[a]:\n",
    "                route.append(a)\n",
    "                dfs(graph[a].pop(0))             \n",
    "\n",
    "        dfs('JFK')\n",
    "        return route            "
   ]
  },
  {
   "cell_type": "code",
   "execution_count": null,
   "metadata": {},
   "outputs": [],
   "source": [
    "# sol 2\n",
    "class Solution:\n",
    "    def findItinerary(self, tickets: List[List[str]]) -> List[str]:\n",
    "        graph = collections.defaultdict(list)\n",
    "        for a, b in sorted(tickets):\n",
    "            graph[a].append(b)\n",
    "\n",
    "        route, stack = [], ['JFK']\n",
    "        while stack:\n",
    "            # 반복으로 스택을 구성하되 막히는 부분에서 풀어내는 처리\n",
    "            while graph[stack[-1]]:\n",
    "                stack.append(graph[stack[-1]].pop(0))\n",
    "            route.append(stack.pop())\n",
    "\n",
    "        return route[::-1]"
   ]
  },
  {
   "cell_type": "markdown",
   "metadata": {},
   "source": [
    "# q39 코스스케줄\n",
    "https://leetcode.com/problems/course-schedule/"
   ]
  },
  {
   "cell_type": "code",
   "execution_count": null,
   "metadata": {},
   "outputs": [],
   "source": [
    "import collections\n",
    "from typing import List\n",
    "\n",
    "\n",
    "class Solution:\n",
    "    def canFinish(self, numCourses: int, prerequisites: List[List[int]]) -> bool:\n",
    "        graph = collections.defaultdict(list)\n",
    "        # 그래프 구성\n",
    "        for x, y in prerequisites:\n",
    "            graph[x].append(y)\n",
    "\n",
    "        traced = set()\n",
    "\n",
    "        def dfs(i):\n",
    "            # 순환 구조이면 False\n",
    "            if i in traced:\n",
    "                return False\n",
    "\n",
    "            traced.add(i)\n",
    "            for y in graph[i]:\n",
    "                if not dfs(y):\n",
    "                    return False\n",
    "            # 탐색 종료 후 순환 노드 삭제\n",
    "            traced.remove(i)\n",
    "\n",
    "            return True\n",
    "\n",
    "        # 순환 구조 판별\n",
    "        for x in list(graph):\n",
    "            if not dfs(x):\n",
    "                return False\n",
    "\n",
    "        return True"
   ]
  }
 ],
 "metadata": {
  "kernelspec": {
   "display_name": "Python 3",
   "language": "python",
   "name": "python3"
  },
  "language_info": {
   "codemirror_mode": {
    "name": "ipython",
    "version": 3
   },
   "file_extension": ".py",
   "mimetype": "text/x-python",
   "name": "python",
   "nbconvert_exporter": "python",
   "pygments_lexer": "ipython3",
   "version": "3.7.6"
  }
 },
 "nbformat": 4,
 "nbformat_minor": 4
}
