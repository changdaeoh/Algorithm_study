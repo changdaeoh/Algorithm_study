{
 "cells": [
  {
   "cell_type": "markdown",
   "metadata": {},
   "source": [
    "### Graph\n",
    "* Vertex(정점)\n",
    "* Edge(간선)\n",
    "* Degree(차수)\n",
    "<br/><br/>\n",
    "\n",
    "\n",
    "### 그래프 순회\n",
    "* DFS(깊이우선탐색)\n",
    "* BFS(너비우선탐색)"
   ]
  },
  {
   "cell_type": "markdown",
   "metadata": {},
   "source": [
    "## Example\n",
    "<img src = \"https://github.com/changdaeoh/Algorithm_study/blob/main/images/12_7.jpg?raw=true\" width = \"70%\" height = \"70%\">"
   ]
  },
  {
   "cell_type": "code",
   "execution_count": 9,
   "metadata": {},
   "outputs": [],
   "source": [
    "graph = {\n",
    "    1:[2,3,4],\n",
    "    2:[5],\n",
    "    3:[5],\n",
    "    4:[],\n",
    "    5:[6,7],\n",
    "    6:[],\n",
    "    7:[5],\n",
    "}"
   ]
  },
  {
   "cell_type": "markdown",
   "metadata": {},
   "source": [
    "### DFS"
   ]
  },
  {
   "cell_type": "code",
   "execution_count": 12,
   "metadata": {},
   "outputs": [],
   "source": [
    "# 재귀를 이용한 DFS 구현\n",
    "def recursive_dfs(v, discovered = []):\n",
    "    discovered.append(v)\n",
    "    for w in graph[v]:\n",
    "        if not w in discovered:\n",
    "            discovered = recursive_dfs(w, discovered)\n",
    "    return discovered"
   ]
  },
  {
   "cell_type": "code",
   "execution_count": 13,
   "metadata": {},
   "outputs": [
    {
     "name": "stdout",
     "output_type": "stream",
     "text": [
      "[1, 2, 5, 6, 7, 3, 4]\n"
     ]
    }
   ],
   "source": [
    "print(recursive_dfs(1))"
   ]
  },
  {
   "cell_type": "code",
   "execution_count": 14,
   "metadata": {},
   "outputs": [],
   "source": [
    "# 반복를 이용한 DFS 구현\n",
    "def iterative_dfs(start_v):\n",
    "    discovered = []                          # 최종결과 저장소\n",
    "    stack = [start_v]                        # 임시저장소\n",
    "    while stack:\n",
    "        v = stack.pop()\n",
    "        if v not in discovered:\n",
    "            discovered.append(v)\n",
    "            for w in graph[v]:               # 해당 노드의 하위노드들에 접근\n",
    "                stack.append(w)              # 스택에 저장\n",
    "    return discovered"
   ]
  },
  {
   "cell_type": "code",
   "execution_count": 15,
   "metadata": {},
   "outputs": [
    {
     "data": {
      "text/plain": [
       "[1, 4, 3, 5, 7, 6, 2]"
      ]
     },
     "execution_count": 15,
     "metadata": {},
     "output_type": "execute_result"
    }
   ],
   "source": [
    "iterative_dfs(1)"
   ]
  },
  {
   "cell_type": "markdown",
   "metadata": {},
   "source": [
    "### BFS"
   ]
  },
  {
   "cell_type": "code",
   "execution_count": 16,
   "metadata": {},
   "outputs": [],
   "source": [
    "# 반복을 이용한 BFS구현\n",
    "def iterative_bfs(start_v):\n",
    "    discovered = [start_v]\n",
    "    queue = [start_v]\n",
    "    while queue:\n",
    "        v = queue.pop(0)\n",
    "        for w in graph[v]:\n",
    "            if w not in discovered:\n",
    "                discovered.append(w)\n",
    "                queue.append(w)\n",
    "    return discovered"
   ]
  },
  {
   "cell_type": "code",
   "execution_count": 17,
   "metadata": {},
   "outputs": [
    {
     "data": {
      "text/plain": [
       "[1, 2, 3, 4, 5, 6, 7]"
      ]
     },
     "execution_count": 17,
     "metadata": {},
     "output_type": "execute_result"
    }
   ],
   "source": [
    "iterative_bfs(1)"
   ]
  },
  {
   "cell_type": "markdown",
   "metadata": {},
   "source": [
    "### 백트래킹(backtracking)\n",
    "> 솔루션에 대한 후보를 구축해 나가다 가능성이 없다고 판단되는 즉시 후보를 포기(backtrack)해 정답을 찾아가는 범용적인 알고리즘으로 제약충족문제에 특히 유용 <img src = \"https://github.com/changdaeoh/Algorithm_study/blob/main/images/12_10.jpg?raw=true\" width = \"60%\" height = \"60%\">"
   ]
  },
  {
   "cell_type": "markdown",
   "metadata": {},
   "source": [
    "# q32 섬의개수\n",
    "https://leetcode.com/problems/number-of-islands/submissions/"
   ]
  },
  {
   "cell_type": "code",
   "execution_count": 20,
   "metadata": {},
   "outputs": [],
   "source": [
    "from typing import List"
   ]
  },
  {
   "cell_type": "code",
   "execution_count": 21,
   "metadata": {},
   "outputs": [],
   "source": [
    "class Solution:\n",
    "    def numislands(self, grid:List[List[str]]) -> int:\n",
    "        def dfs(i, j): # i와 j는 이중리스트의 행/열 인덱스 \n",
    "            if i < 0 or i >= len(grid) or \\\n",
    "                j < 0 or j >= len(grid[0]) or \\\n",
    "                grid[i][j] != '1':\n",
    "                    return\n",
    "            # 살핀 자리는 0이 됨. \n",
    "            grid[i][j] = 0\n",
    "            # 상하좌우 탐색\n",
    "            dfs(i + 1, j)\n",
    "            dfs(i - 1, j)\n",
    "            dfs(i, j + 1)\n",
    "            dfs(i, j - 1)\n",
    "        \n",
    "        count = 0\n",
    "        # input받은 grid 탐색시작 \n",
    "        for i in range(len(grid)):\n",
    "            for j in range(len(grid[0])):\n",
    "                # 현재 순회중인 좌표가 육지이면 탐색 시작\n",
    "                if grid[i][j] == '1': \n",
    "                    dfs(i, j)\n",
    "                    count += 1\n",
    "                    \n",
    "        return count"
   ]
  },
  {
   "cell_type": "markdown",
   "metadata": {},
   "source": [
    "# Q33 전화번호 문자조합\n",
    "https://leetcode.com/problems/letter-combinations-of-a-phone-number/submissions/"
   ]
  },
  {
   "cell_type": "code",
   "execution_count": 26,
   "metadata": {},
   "outputs": [
    {
     "data": {
      "text/plain": [
       "['1', '2', '3']"
      ]
     },
     "execution_count": 26,
     "metadata": {},
     "output_type": "execute_result"
    }
   ],
   "source": [
    "list('123')"
   ]
  },
  {
   "cell_type": "code",
   "execution_count": null,
   "metadata": {},
   "outputs": [],
   "source": [
    "class Solution:\n",
    "    def letterCombinations(self, digits: str) -> List[str]:\n",
    "        num2letter = {'2':['a','b','c'],\n",
    "                      '3':['d','e','f'],\n",
    "                      '4':['g','h','i'],\n",
    "                      '5':['j','k','l'],\n",
    "                      '6':['m','n','o'],\n",
    "                      '7':['p','q','r','s'],\n",
    "                      '8':['t','u','v'],\n",
    "                      '9':['w','x','y','z']}\n",
    "        answer = []\n",
    "        graph = list(digits)\n",
    "        length = len(graph)\n",
    "    \n",
    "        # 예외처리\n",
    "        if length == 0:\n",
    "            return answer\n",
    "\n",
    "        # 그래프 서칭\n",
    "        while graph:\n",
    "            num = graph.pop(0)\n",
    "            if len(answer) == 0:\n",
    "                answer = num2letter[num]\n",
    "            else:\n",
    "                answer =\\\n",
    "                    [[cum_ch+ch for cum_ch in answer] for ch in num2letter[num]]\n",
    "                answer = sum(answer,[])\n",
    "        return answer"
   ]
  },
  {
   "cell_type": "code",
   "execution_count": 65,
   "metadata": {},
   "outputs": [],
   "source": [
    "def letterCombinations(digits: str) -> List[str]:\n",
    "    num2letter = {'2':['a','b','c'],\n",
    "                  '3':['d','e','f'],\n",
    "                  '4':['g','h','i'],\n",
    "                  '5':['j','k','l'],\n",
    "                  '6':['m','n','o'],\n",
    "                  '7':['p','q','r','s'],\n",
    "                  '8':['t','u','v'],\n",
    "                  '9':['w','x','y','z']}\n",
    "    answer = []\n",
    "    graph = list(digits)\n",
    "    length = len(graph)\n",
    "    \n",
    "    # 예외처리\n",
    "    if length == 0:\n",
    "        return answer\n",
    "    \n",
    "    # 그래프 서칭\n",
    "    while graph:\n",
    "        num = graph.pop(0)\n",
    "        if len(answer) == 0:\n",
    "            answer = num2letter[num]\n",
    "        else:\n",
    "            answer =\\\n",
    "                [[cum_ch+ch for cum_ch in answer] for ch in num2letter[num]]\n",
    "            answer = sum(answer,[])\n",
    "    return answer"
   ]
  },
  {
   "cell_type": "code",
   "execution_count": 66,
   "metadata": {},
   "outputs": [
    {
     "data": {
      "text/plain": [
       "['ad', 'bd', 'cd', 'ae', 'be', 'ce', 'af', 'bf', 'cf']"
      ]
     },
     "execution_count": 66,
     "metadata": {},
     "output_type": "execute_result"
    }
   ],
   "source": [
    "letterCombinations(\"23\")"
   ]
  },
  {
   "cell_type": "code",
   "execution_count": 45,
   "metadata": {},
   "outputs": [
    {
     "data": {
      "text/plain": [
       "['a', 'b', 'c']"
      ]
     },
     "execution_count": 45,
     "metadata": {},
     "output_type": "execute_result"
    }
   ],
   "source": [
    "letterCombinations(\"2\")"
   ]
  },
  {
   "cell_type": "code",
   "execution_count": 50,
   "metadata": {},
   "outputs": [
    {
     "data": {
      "text/plain": [
       "['adg',\n",
       " 'bdg',\n",
       " 'cdg',\n",
       " 'aeg',\n",
       " 'beg',\n",
       " 'ceg',\n",
       " 'afg',\n",
       " 'bfg',\n",
       " 'cfg',\n",
       " 'adh',\n",
       " 'bdh',\n",
       " 'cdh',\n",
       " 'aeh',\n",
       " 'beh',\n",
       " 'ceh',\n",
       " 'afh',\n",
       " 'bfh',\n",
       " 'cfh',\n",
       " 'adi',\n",
       " 'bdi',\n",
       " 'cdi',\n",
       " 'aei',\n",
       " 'bei',\n",
       " 'cei',\n",
       " 'afi',\n",
       " 'bfi',\n",
       " 'cfi']"
      ]
     },
     "execution_count": 50,
     "metadata": {},
     "output_type": "execute_result"
    }
   ],
   "source": [
    "letterCombinations(\"234\")"
   ]
  },
  {
   "cell_type": "code",
   "execution_count": 59,
   "metadata": {},
   "outputs": [],
   "source": [
    "def letterCombinations(digits: str) -> List[str]:\n",
    "    def dfs(index, path):\n",
    "        # 끝까지 탐색하면 백트래킹\n",
    "        if len(path) == len(digits):\n",
    "            result.append(path)\n",
    "            return\n",
    "\n",
    "        # 입력값 자릿수 단위 반복\n",
    "        for i in range(index, len(digits)):\n",
    "            # 숫자에 해당하는 모든 문자열 반복\n",
    "            for j in dic[digits[i]]:\n",
    "                print(\"iteration --------------------\")    # 디버깅\n",
    "                print('i : ',i,', j : ',j)                 # 디버깅\n",
    "                dfs(i + 1, path + j)\n",
    "                print('i+1 : ',i+1,\", path+j : \",path+j)   # 디버깅\n",
    "                print(\"result : \",result,'\\n')             # 디버깅\n",
    "\n",
    "    # 예외 처리\n",
    "    if not digits:\n",
    "        return []\n",
    "\n",
    "    dic = {\"2\": \"abc\", \"3\": \"def\", \"4\": \"ghi\", \"5\": \"jkl\",\n",
    "           \"6\": \"mno\", \"7\": \"pqrs\", \"8\": \"tuv\", \"9\": \"wxyz\"}\n",
    "    result = []\n",
    "    dfs(0, \"\")\n",
    "\n",
    "    return result"
   ]
  },
  {
   "cell_type": "code",
   "execution_count": 60,
   "metadata": {},
   "outputs": [
    {
     "name": "stdout",
     "output_type": "stream",
     "text": [
      "iteration --------------------\n",
      "i :  0 , j :  a\n",
      "iteration --------------------\n",
      "i :  1 , j :  d\n",
      "i+1 :  2 , path+j :  ad\n",
      "result :  ['ad'] \n",
      "\n",
      "iteration --------------------\n",
      "i :  1 , j :  e\n",
      "i+1 :  2 , path+j :  ae\n",
      "result :  ['ad', 'ae'] \n",
      "\n",
      "iteration --------------------\n",
      "i :  1 , j :  f\n",
      "i+1 :  2 , path+j :  af\n",
      "result :  ['ad', 'ae', 'af'] \n",
      "\n",
      "i+1 :  1 , path+j :  a\n",
      "result :  ['ad', 'ae', 'af'] \n",
      "\n",
      "iteration --------------------\n",
      "i :  0 , j :  b\n",
      "iteration --------------------\n",
      "i :  1 , j :  d\n",
      "i+1 :  2 , path+j :  bd\n",
      "result :  ['ad', 'ae', 'af', 'bd'] \n",
      "\n",
      "iteration --------------------\n",
      "i :  1 , j :  e\n",
      "i+1 :  2 , path+j :  be\n",
      "result :  ['ad', 'ae', 'af', 'bd', 'be'] \n",
      "\n",
      "iteration --------------------\n",
      "i :  1 , j :  f\n",
      "i+1 :  2 , path+j :  bf\n",
      "result :  ['ad', 'ae', 'af', 'bd', 'be', 'bf'] \n",
      "\n",
      "i+1 :  1 , path+j :  b\n",
      "result :  ['ad', 'ae', 'af', 'bd', 'be', 'bf'] \n",
      "\n",
      "iteration --------------------\n",
      "i :  0 , j :  c\n",
      "iteration --------------------\n",
      "i :  1 , j :  d\n",
      "i+1 :  2 , path+j :  cd\n",
      "result :  ['ad', 'ae', 'af', 'bd', 'be', 'bf', 'cd'] \n",
      "\n",
      "iteration --------------------\n",
      "i :  1 , j :  e\n",
      "i+1 :  2 , path+j :  ce\n",
      "result :  ['ad', 'ae', 'af', 'bd', 'be', 'bf', 'cd', 'ce'] \n",
      "\n",
      "iteration --------------------\n",
      "i :  1 , j :  f\n",
      "i+1 :  2 , path+j :  cf\n",
      "result :  ['ad', 'ae', 'af', 'bd', 'be', 'bf', 'cd', 'ce', 'cf'] \n",
      "\n",
      "i+1 :  1 , path+j :  c\n",
      "result :  ['ad', 'ae', 'af', 'bd', 'be', 'bf', 'cd', 'ce', 'cf'] \n",
      "\n",
      "iteration --------------------\n",
      "i :  1 , j :  d\n",
      "i+1 :  2 , path+j :  d\n",
      "result :  ['ad', 'ae', 'af', 'bd', 'be', 'bf', 'cd', 'ce', 'cf'] \n",
      "\n",
      "iteration --------------------\n",
      "i :  1 , j :  e\n",
      "i+1 :  2 , path+j :  e\n",
      "result :  ['ad', 'ae', 'af', 'bd', 'be', 'bf', 'cd', 'ce', 'cf'] \n",
      "\n",
      "iteration --------------------\n",
      "i :  1 , j :  f\n",
      "i+1 :  2 , path+j :  f\n",
      "result :  ['ad', 'ae', 'af', 'bd', 'be', 'bf', 'cd', 'ce', 'cf'] \n",
      "\n"
     ]
    },
    {
     "data": {
      "text/plain": [
       "['ad', 'ae', 'af', 'bd', 'be', 'bf', 'cd', 'ce', 'cf']"
      ]
     },
     "execution_count": 60,
     "metadata": {},
     "output_type": "execute_result"
    }
   ],
   "source": [
    "letterCombinations(\"23\")"
   ]
  }
 ],
 "metadata": {
  "kernelspec": {
   "display_name": "Python 3",
   "language": "python",
   "name": "python3"
  },
  "language_info": {
   "codemirror_mode": {
    "name": "ipython",
    "version": 3
   },
   "file_extension": ".py",
   "mimetype": "text/x-python",
   "name": "python",
   "nbconvert_exporter": "python",
   "pygments_lexer": "ipython3",
   "version": "3.7.6"
  }
 },
 "nbformat": 4,
 "nbformat_minor": 4
}
