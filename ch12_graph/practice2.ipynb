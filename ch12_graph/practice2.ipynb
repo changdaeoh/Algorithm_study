{
 "cells": [
  {
   "cell_type": "markdown",
   "metadata": {},
   "source": [
    "# q34 순열\n",
    "https://leetcode.com/problems/permutations/submissions/"
   ]
  },
  {
   "cell_type": "code",
   "execution_count": 2,
   "metadata": {},
   "outputs": [],
   "source": [
    "from typing import List"
   ]
  },
  {
   "cell_type": "code",
   "execution_count": 1,
   "metadata": {},
   "outputs": [],
   "source": [
    "nums = [1,2,3]"
   ]
  },
  {
   "cell_type": "code",
   "execution_count": 5,
   "metadata": {},
   "outputs": [],
   "source": [
    "# sol.1\n",
    "import itertools\n",
    "\n",
    "def permute(nums: List[int]) -> List[List[int]]:\n",
    "    return list(itertools.permutations(nums))"
   ]
  },
  {
   "cell_type": "code",
   "execution_count": null,
   "metadata": {},
   "outputs": [],
   "source": [
    "# sol.2\n",
    "from copy \n",
    "\n",
    "class Solution:\n",
    "    def permute(self, nums: List[int]) -> List[List[int]]:\n",
    "        results = []\n",
    "        prev_elements = []\n",
    "\n",
    "        def dfs(elements):\n",
    "            # 리프 노드일때 결과 추가\n",
    "            if len(elements) == 0:\n",
    "                results.append(prev_elements[:])\n",
    "\n",
    "            # 순열 생성 재귀 호출\n",
    "            for e in elements:\n",
    "                next_elements = elements[:]\n",
    "                next_elements.remove(e)\n",
    "\n",
    "                prev_elements.append(e)\n",
    "                dfs(next_elements)\n",
    "                prev_elements.pop()\n",
    "\n",
    "        dfs(nums)\n",
    "        return results   "
   ]
  },
  {
   "cell_type": "code",
   "execution_count": 5,
   "metadata": {},
   "outputs": [
    {
     "data": {
      "text/plain": [
       "[]"
      ]
     },
     "execution_count": 5,
     "metadata": {},
     "output_type": "execute_result"
    }
   ],
   "source": [
    "[1,2,3][:0]"
   ]
  },
  {
   "cell_type": "code",
   "execution_count": 3,
   "metadata": {},
   "outputs": [],
   "source": [
    "# sol.3\n",
    "def permutation(lst):\n",
    "    \n",
    "    # deal special case\n",
    "    if len(lst) == 0:\n",
    "        return []\n",
    "    if len(lst) == 1:\n",
    "        return [lst]\n",
    "    \n",
    "    l = [] # empty list that will store current permutation\n",
    "    # Iterate the input(lst) and calculate the permutation\n",
    "    for i in range(len(lst)):\n",
    "        m = lst[i]\n",
    "        \n",
    "        # remaining elements\n",
    "        remain = lst[:i] + lst[i+1:]\n",
    "        \n",
    "        # Generating all permutations where m is first element\n",
    "        for p in permutation(remain):\n",
    "            l.append([m] + p)\n",
    "    return l\n",
    "\n",
    "\n",
    "\n",
    "# class Solution:\n",
    "#     def permute(self, nums: List[int]) -> List[List[int]]:\n",
    "#         if len(nums) == 0:\n",
    "#             return []\n",
    "#         elif len(nums) == 1:\n",
    "#             return [nums]\n",
    "\n",
    "#         l = [] # empty list that will store current permutation\n",
    "\n",
    "#         # Iterate the input(nums) and calculate the permutation\n",
    "#         for i in range(len(nums)):\n",
    "#             m = nums[i]\n",
    "\n",
    "#             # list remaining elements\n",
    "#             remLst = nums[:i] + nums[i+1:]\n",
    "\n",
    "#             # Generating all permutations where m is first element\n",
    "#             for p in self.permute(remLst):\n",
    "#                 l.append([m] + p)\n",
    "#         return l"
   ]
  },
  {
   "cell_type": "code",
   "execution_count": 4,
   "metadata": {},
   "outputs": [
    {
     "name": "stdout",
     "output_type": "stream",
     "text": [
      "[['1', '2', '3'], ['1', '3', '2'], ['2', '1', '3'], ['2', '3', '1'], ['3', '1', '2'], ['3', '2', '1']]\n"
     ]
    }
   ],
   "source": [
    "def permutation(lst):\n",
    "    \n",
    "    # deal special case\n",
    "    if len(lst) == 0:\n",
    "        return []\n",
    "    if len(lst) == 1:\n",
    "        return [lst]\n",
    "    \n",
    "    l = [] # empty list that will store current permutation\n",
    "    # Iterate the input(lst) and calculate the permutation\n",
    "    for i in range(len(lst)):\n",
    "        m = lst[i]\n",
    "        \n",
    "        # remaining elements\n",
    "        m = lst[i]\n",
    "        remain = lst[:i] + lst[i+1:]\n",
    "        \n",
    "        # Generating all permutations where m is first element\n",
    "        for p in permutation(remain):\n",
    "            l.append([m] + p)\n",
    "    return l\n",
    "\n",
    "data = list('123')\n",
    "print(permutation(data))"
   ]
  },
  {
   "cell_type": "markdown",
   "metadata": {},
   "source": [
    "<img src = \"https://github.com/changdaeoh/Algorithm_study/blob/main/images/12_q34.jpg?raw=true\" width = \"70%\" height = \"70%\">"
   ]
  },
  {
   "cell_type": "markdown",
   "metadata": {},
   "source": [
    "# q35 조합\n",
    "https://leetcode.com/problems/combinations/"
   ]
  },
  {
   "cell_type": "code",
   "execution_count": null,
   "metadata": {},
   "outputs": [],
   "source": [
    "# sol 1\n",
    "class Solution:\n",
    "    def combine(self, n: int, k: int) -> List[List[int]]:\n",
    "        results = []\n",
    "        \n",
    "        def dfs(elements, start:int, k:int):\n",
    "            if k == 0:\n",
    "                results.append(elements[:])\n",
    "                return\n",
    "            \n",
    "            for i in range(start, n + 1):\n",
    "                elements.append(i)\n",
    "                dfs(elements, i + 1, k - 1)\n",
    "                elements.pop()\n",
    "            \n",
    "        dfs([], 1, k)\n",
    "        return results"
   ]
  },
  {
   "cell_type": "markdown",
   "metadata": {},
   "source": [
    "<img src = \"https://github.com/changdaeoh/Algorithm_study/blob/main/images/12_q35.jpg?raw=true\" width = \"70%\" height = \"70%\">"
   ]
  },
  {
   "cell_type": "code",
   "execution_count": null,
   "metadata": {},
   "outputs": [],
   "source": [
    "# sol 2\n",
    "class Solution:\n",
    "    def combine(self, n: int, k: int) -> List[List[int]]:\n",
    "        return list(itertools.combinations(range(1, n + 1), k))"
   ]
  },
  {
   "cell_type": "markdown",
   "metadata": {},
   "source": [
    "# q36 조합의 합\n",
    "https://leetcode.com/problems/combination-sum/"
   ]
  },
  {
   "cell_type": "code",
   "execution_count": 6,
   "metadata": {},
   "outputs": [],
   "source": [
    "nums = [2,3,6,7]; target = 7\n",
    "graph = { key:nums for key in nums }"
   ]
  },
  {
   "cell_type": "code",
   "execution_count": null,
   "metadata": {},
   "outputs": [],
   "source": [
    "def combinationSum(candidates:List[int], target:int) -> List[List[int]]:\n",
    "    result = []\n",
    "    if 0 in candidates:\n",
    "        candidates.remove(0)\n",
    "\n",
    "    def dfs(csum, index, path):\n",
    "        # 종료 조건\n",
    "        if csum < 0:\n",
    "            return\n",
    "        if csum == 0:\n",
    "            result.append(path)\n",
    "            return\n",
    "        \n",
    "        # 자신 부터 하위 원소 까지의 나열 재귀 호출\n",
    "        for i in range(index, len(candidates)):\n",
    "            dfs(csum - candidates[i], i, path + [candidates[i]])\n",
    "\n",
    "    dfs(target, 0, [])\n",
    "    return result"
   ]
  },
  {
   "cell_type": "code",
   "execution_count": 17,
   "metadata": {},
   "outputs": [],
   "source": [
    "# 무한루프되네... 왜지?\n",
    "# def solution(candidates, target):\n",
    "#     graph = { key:candidates for key in candidates }\n",
    "#     result = []\n",
    "    \n",
    "#     # 탐색함수\n",
    "#     def searcher(start_node):\n",
    "#         cumsum = start_node                        \n",
    "#         path = [start_node]\n",
    "#         matching = []\n",
    "#         i = 0\n",
    "        \n",
    "#         while cumsum < target:\n",
    "#             p = path[i]                         # parent node\n",
    "#             for c in graph[p]:                  # child nodes of cur node       \n",
    "#                 if cumsum + c < target:\n",
    "#                     cumsum += c\n",
    "#                     path.append(c)\n",
    "#                     i += 1\n",
    "#                 if cumsum + c == target:\n",
    "#                     path.append(c)\n",
    "#                     matching.append(path)\n",
    "#                     path.pop()\n",
    "                    \n",
    "#             if i == 0 :\n",
    "#                 break\n",
    "            \n",
    "#         return matching\n",
    "    \n",
    "#     # 후보 각각을 root 노드로하는 그래프들 탐색\n",
    "#     for key in graph:\n",
    "#         result = result + searcher(key)\n",
    "        \n",
    "#     return result"
   ]
  }
 ],
 "metadata": {
  "kernelspec": {
   "display_name": "Python 3",
   "language": "python",
   "name": "python3"
  },
  "language_info": {
   "codemirror_mode": {
    "name": "ipython",
    "version": 3
   },
   "file_extension": ".py",
   "mimetype": "text/x-python",
   "name": "python",
   "nbconvert_exporter": "python",
   "pygments_lexer": "ipython3",
   "version": "3.7.6"
  }
 },
 "nbformat": 4,
 "nbformat_minor": 4
}
