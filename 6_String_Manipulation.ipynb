{
 "cells": [
  {
   "cell_type": "markdown",
   "metadata": {},
   "source": [
    "# 1. Valid Palindrome"
   ]
  },
  {
   "cell_type": "code",
   "execution_count": 1,
   "metadata": {},
   "outputs": [],
   "source": [
    "input_sample = \"A man, a plan, a canal: Panama\"\n",
    "output_sample = True"
   ]
  },
  {
   "cell_type": "code",
   "execution_count": 10,
   "metadata": {},
   "outputs": [
    {
     "data": {
      "text/plain": [
       "True"
      ]
     },
     "execution_count": 10,
     "metadata": {},
     "output_type": "execute_result"
    }
   ],
   "source": [
    "import re\n",
    "\n",
    "def Panlindrome_detector_re(text : str ) -> bool:\n",
    "    text = text.lower()\n",
    "    text = re.sub('[^a-z0-9]', '',text)\n",
    "    \n",
    "    if len(text) == 0:\n",
    "        return False\n",
    "    \n",
    "    inv_text = text[::-1]\n",
    "    return text == inv_text\n",
    "\n",
    "Panlindrome_detector_re(input_sample)"
   ]
  },
  {
   "cell_type": "code",
   "execution_count": 11,
   "metadata": {},
   "outputs": [
    {
     "name": "stdout",
     "output_type": "stream",
     "text": [
      "True\n",
      "False\n",
      "True\n",
      "False\n"
     ]
    }
   ],
   "source": [
    "input_sample2 = \"Abs.ba\"\n",
    "input_sample3 = \"race a car\"\n",
    "input_sample4 = \"소주rar주소\"\n",
    "input_sample5 = \"소주 만 병만 주소\"\n",
    "\n",
    "print(Panlindrome_detector_re(input_sample2))\n",
    "print(Panlindrome_detector_re(input_sample3))\n",
    "print(Panlindrome_detector_re(input_sample4))\n",
    "print(Panlindrome_detector_re(input_sample5))"
   ]
  },
  {
   "cell_type": "code",
   "execution_count": null,
   "metadata": {},
   "outputs": [],
   "source": [
    "def Panlindrome_detector(text : str) -> bool:\n",
    "    text = text.lower()\n",
    "    text = [ ch for ch in text if ch.isalnum() ]\n",
    "    \n",
    "    if len(text) == 0:\n",
    "        return False\n",
    "    \n",
    "    text = ''.join(text)\n",
    "    inv_text = text[::-1]\n",
    "\n",
    "    return inv_text == text\n",
    "\n",
    "Panlindrome_detector(input_sample)"
   ]
  },
  {
   "cell_type": "code",
   "execution_count": null,
   "metadata": {},
   "outputs": [],
   "source": [
    "input_sample2 = \"Abs.ba\"\n",
    "input_sample3 = \"race a car\"\n",
    "input_sample4 = \"소주rar주소\"\n",
    "input_sample5 = \"소주 만 병만 주소\"\n",
    "\n",
    "print(Panlindrome_detector(input_sample2))\n",
    "print(Panlindrome_detector(input_sample3))\n",
    "print(Panlindrome_detector(input_sample4))\n",
    "print(Panlindrome_detector(input_sample5)) # ? 한글도 isalnum이 true로 인식해버리네"
   ]
  },
  {
   "cell_type": "markdown",
   "metadata": {},
   "source": [
    "# 교재 풀이 "
   ]
  },
  {
   "cell_type": "code",
   "execution_count": 5,
   "metadata": {},
   "outputs": [],
   "source": [
    "# 1.리스트로 변환\n",
    "def isPalindrome(s : str) -> bool:\n",
    "    strs = []\n",
    "    for char in s:\n",
    "        if char.isalnum():\n",
    "            strs.append(char.lower())\n",
    "        \n",
    "    while len(strs) > 1:\n",
    "        if strs.pop(0) != strs.pop():\n",
    "            return False\n",
    "    \n",
    "    return True"
   ]
  },
  {
   "cell_type": "code",
   "execution_count": 8,
   "metadata": {},
   "outputs": [],
   "source": [
    "# 2. 덱(Deque) 자료형을 이용한 최적화\n",
    "import collections\n",
    "\n",
    "def isPalindrome(s : str) -> bool:\n",
    "    strs : Deque = collections.deque()\n",
    "        \n",
    "    for char in s:\n",
    "        if char.isalnum():\n",
    "            strs.append(char.lower())\n",
    "            \n",
    "    while len(strs) > 1:\n",
    "        if strs.popleft() != strs.pop():\n",
    "            return False\n",
    "    \n",
    "    return True"
   ]
  },
  {
   "cell_type": "code",
   "execution_count": null,
   "metadata": {},
   "outputs": [],
   "source": [
    "# 3. 정규식 이용 \n",
    "import re\n",
    "\n",
    "def Panlindrome_detector_re(text : str ) -> bool:\n",
    "    text = text.lower()\n",
    "    text = re.sub('[^a-z0-9]', '',text)\n",
    "    \n",
    "    return text == text[::-1]\n",
    "\n",
    "Panlindrome_detector_re(input_sample)"
   ]
  },
  {
   "cell_type": "code",
   "execution_count": 23,
   "metadata": {},
   "outputs": [],
   "source": [
    "sample1 = ['h','e','l','l','o']\n",
    "sample2 = ['H','a','n','n','a','h']"
   ]
  },
  {
   "cell_type": "code",
   "execution_count": 13,
   "metadata": {},
   "outputs": [
    {
     "data": {
      "text/plain": [
       "['o', 'l', 'l', 'e', 'h']"
      ]
     },
     "execution_count": 13,
     "metadata": {},
     "output_type": "execute_result"
    }
   ],
   "source": [
    "sample1[::-1]"
   ]
  },
  {
   "cell_type": "code",
   "execution_count": 17,
   "metadata": {},
   "outputs": [
    {
     "name": "stdout",
     "output_type": "stream",
     "text": [
      "['o', 'l', 'l', 'e', 'h']\n"
     ]
    }
   ],
   "source": [
    "def str_reversing(text : list) -> None:\n",
    "    text.reverse()\n",
    "    \n",
    "str_reversing(sample1)\n",
    "print(sample1)"
   ]
  },
  {
   "cell_type": "code",
   "execution_count": 20,
   "metadata": {},
   "outputs": [
    {
     "name": "stdout",
     "output_type": "stream",
     "text": [
      "['h', 'a', 'n', 'n', 'a', 'H']\n"
     ]
    }
   ],
   "source": [
    "def str_reversing(text : list) -> None:\n",
    "    front, back = 0, len(text)-1\n",
    "    while front < back:\n",
    "        text[front], text[back] = text[back], text[front]\n",
    "        front += 1; back -= 1\n",
    "    \n",
    "str_reversing(sample2)\n",
    "print(sample2)"
   ]
  },
  {
   "cell_type": "code",
   "execution_count": 22,
   "metadata": {},
   "outputs": [
    {
     "name": "stdout",
     "output_type": "stream",
     "text": [
      "['o', 'l', 'l', 'e', 'h']\n"
     ]
    }
   ],
   "source": [
    "def str_reversing(text : list) -> None:\n",
    "    text[:] = text[::-1]\n",
    "    \n",
    "str_reversing(sample1)\n",
    "print(sample1)"
   ]
  },
  {
   "cell_type": "code",
   "execution_count": 24,
   "metadata": {},
   "outputs": [
    {
     "name": "stdout",
     "output_type": "stream",
     "text": [
      "['h', 'e', 'l', 'l', 'o']\n"
     ]
    }
   ],
   "source": [
    "def str_reversing(text : list) -> None:\n",
    "    text = text[::-1]\n",
    "    \n",
    "str_reversing(sample1)\n",
    "print(sample1)"
   ]
  },
  {
   "cell_type": "code",
   "execution_count": null,
   "metadata": {},
   "outputs": [],
   "source": [
    "import time\n",
    "\n",
    "start = time.time() \n",
    "end = time.time()\n",
    "print(f'running time : {end - start}')  "
   ]
  },
  {
   "cell_type": "code",
   "execution_count": null,
   "metadata": {},
   "outputs": [],
   "source": [
    "input_logs = [\"dig1 8 1 5 1\",\"let1 art can\",\"dig2 3 6\",\"let2 own kit dig\",\"let3 art zero\"]\n",
    "output_logs = [\"let1 art can\",\"let3 art zero\",\"let2 own kit dig\",\"dig1 8 1 5 1\",\"dig2 3 6\"]"
   ]
  },
  {
   "cell_type": "code",
   "execution_count": 80,
   "metadata": {},
   "outputs": [
    {
     "data": {
      "text/plain": [
       "['let1 art can',\n",
       " 'let3 art zero',\n",
       " 'let2 own kit dig',\n",
       " 'dig1 8 1 5 1',\n",
       " 'dig2 3 6']"
      ]
     },
     "execution_count": 80,
     "metadata": {},
     "output_type": "execute_result"
    }
   ],
   "source": [
    "def reorderLogFiles(logs:list) -> list:\n",
    "    letters, digits = [], []\n",
    "    for log in logs:\n",
    "        if log.split()[1].isdigit():\n",
    "            digits.append(log)\n",
    "        else:\n",
    "            letters.append(log)\n",
    "    \n",
    "    letters.sort(key = lambda x: (x.split()[1:], x.split()[0]))\n",
    "    return letters + digits\n",
    "\n",
    "reorderLogFiles(logs)"
   ]
  },
  {
   "cell_type": "code",
   "execution_count": null,
   "metadata": {},
   "outputs": [],
   "source": [
    "input_logs = "
   ]
  },
  {
   "cell_type": "code",
   "execution_count": 28,
   "metadata": {},
   "outputs": [
    {
     "data": {
      "text/plain": [
       "[['a'], ['c'], ['b']]"
      ]
     },
     "execution_count": 28,
     "metadata": {},
     "output_type": "execute_result"
    }
   ],
   "source": [
    "sa = [['a'],['b'],['c']]\n",
    "orderlist = [0, 2, 1]\n",
    "\n",
    "new = [ sa[i] for i in orderlist ]\n",
    "new"
   ]
  },
  {
   "cell_type": "code",
   "execution_count": 30,
   "metadata": {},
   "outputs": [
    {
     "data": {
      "text/plain": [
       "['let1', 'art', 'can']"
      ]
     },
     "execution_count": 30,
     "metadata": {},
     "output_type": "execute_result"
    }
   ],
   "source": [
    "logs = [\"dig1 8 1 5 1\",\"let1 art can\",\"dig2 3 6\",\"let2 own kit dig\",\"let3 art zero\"]\n",
    "\n",
    "logs[1].split()"
   ]
  },
  {
   "cell_type": "code",
   "execution_count": 72,
   "metadata": {},
   "outputs": [
    {
     "data": {
      "text/plain": [
       "[['let1', 'art', 'can'],\n",
       " ['let3', 'art', 'zero'],\n",
       " ['let2', 'own', 'kit', 'dig'],\n",
       " ['dig1', '8', '1', '5', '1'],\n",
       " ['dig2', '3', '6']]"
      ]
     },
     "execution_count": 72,
     "metadata": {},
     "output_type": "execute_result"
    }
   ],
   "source": [
    "logs = [\"dig1 8 1 5 1\",\"let1 art can\",\"dig2 3 6\",\"let2 own kit dig\",\"let3 art zero\"]\n",
    "\n",
    "logs_split = [ logs[i].split() for i in range(len(logs)) ]             # 전체 스플릿 리스트\n",
    "let_idx = [ i for i in range(len(logs)) if logs[i][-1].isalpha() ]     # 문자로그 인덱스\n",
    "dig_idx = [ i for i in range(len(logs)) if logs[i][-1].isdigit() ]     # 숫자로그 인덱스\n",
    "\n",
    "let_logs = [logs_split[i] for i in let_idx]\n",
    "sorted(let_logs, key = lambda x: (x[1:], x[0])) + [logs_split[i] for i in dig_idx]\n"
   ]
  },
  {
   "cell_type": "code",
   "execution_count": 88,
   "metadata": {},
   "outputs": [],
   "source": [
    "def log_reodering1(logs:list) -> list:\n",
    "    letters, digits = [], []\n",
    "    for log in logs:\n",
    "        if log.split()[-1].isdigit():\n",
    "            digits.append(log)\n",
    "        else:\n",
    "            letters.append(log)\n",
    "    \n",
    "    return sorted(letters, key = lambda x: (x.split()[1:], x.split()[0])) + digits\n"
   ]
  },
  {
   "cell_type": "code",
   "execution_count": 89,
   "metadata": {},
   "outputs": [],
   "source": [
    "def log_reodering2(logs : list) -> list:\n",
    "    let_logs = [ logs[i] for i in range(len(logs)) if logs[i].split()[-1].isalpha() ]     # 문자로그 인덱스\n",
    "    dig_logs = [ logs[i] for i in range(len(logs)) if logs[i].split()[-1].isdigit() ]     # 숫자로그 인덱스\n",
    "\n",
    "    return sorted(let_logs, key = lambda x: (x.split()[1:], x.split()[0])) + dig_logs"
   ]
  },
  {
   "cell_type": "code",
   "execution_count": 91,
   "metadata": {},
   "outputs": [],
   "source": [
    "def log_reodering(logs:list) -> list:\n",
    "    letters, digits = [], []\n",
    "    for log in logs:\n",
    "        if log.split()[-1].isdigit():\n",
    "            digits.append(log)\n",
    "        else:\n",
    "            letters.append(log)\n",
    "    \n",
    "    letters.sort(key = lambda x: (x.split()[1:], x.split()[0]))\n",
    "    return letters + digits"
   ]
  },
  {
   "cell_type": "code",
   "execution_count": 100,
   "metadata": {},
   "outputs": [
    {
     "name": "stdout",
     "output_type": "stream",
     "text": [
      "func1 running time : 0.4367961883544922\n"
     ]
    }
   ],
   "source": [
    "import time\n",
    "\n",
    "start1 = time.time() \n",
    "for i in range(50000):\n",
    "    log_reodering1(logs)\n",
    "end1 = time.time()\n",
    "\n",
    "print(f'func1 running time : {end1 - start1}')  "
   ]
  },
  {
   "cell_type": "code",
   "execution_count": 99,
   "metadata": {},
   "outputs": [
    {
     "name": "stdout",
     "output_type": "stream",
     "text": [
      "func2 running time : 0.677992582321167\n"
     ]
    }
   ],
   "source": [
    "start2 = time.time() \n",
    "for i in range(50000):\n",
    "    log_reodering2(logs)\n",
    "end2 = time.time()\n",
    "\n",
    "print(f'func2 running time : {end2 - start2}')  "
   ]
  },
  {
   "cell_type": "code",
   "execution_count": 101,
   "metadata": {},
   "outputs": [
    {
     "name": "stdout",
     "output_type": "stream",
     "text": [
      "func running time : 0.4205946922302246\n"
     ]
    }
   ],
   "source": [
    "start3 = time.time() \n",
    "for i in range(50000):\n",
    "    log_reodering(logs)\n",
    "end3 = time.time()\n",
    "\n",
    "print(f'func running time : {end3 - start3}')  "
   ]
  },
  {
   "cell_type": "code",
   "execution_count": 87,
   "metadata": {},
   "outputs": [
    {
     "data": {
      "text/plain": [
       "['let1 art can',\n",
       " 'let3 art zero',\n",
       " 'let2 own kit dig',\n",
       " 'dig1 8 1 5 1',\n",
       " 'dig2 3 6']"
      ]
     },
     "execution_count": 87,
     "metadata": {},
     "output_type": "execute_result"
    }
   ],
   "source": [
    "log_reodering2(logs)"
   ]
  },
  {
   "cell_type": "code",
   "execution_count": 51,
   "metadata": {},
   "outputs": [],
   "source": [
    "a = ['abze' , 'ccaa', 'abdd']\n",
    "#a.sort()\n",
    "#a"
   ]
  },
  {
   "cell_type": "code",
   "execution_count": 40,
   "metadata": {},
   "outputs": [
    {
     "data": {
      "text/plain": [
       "dict_values(['abze', 'ccaa', 'abdd'])"
      ]
     },
     "execution_count": 40,
     "metadata": {},
     "output_type": "execute_result"
    }
   ],
   "source": [
    "dic = {1 : 'abze', 2 : 'ccaa', 3 : 'abdd'}\n",
    "dic.values()"
   ]
  },
  {
   "cell_type": "code",
   "execution_count": 70,
   "metadata": {},
   "outputs": [],
   "source": [
    "b = [['a2','a','a'], ['c1','c','b'], ['a1','b','c'],['a0','a','a']]"
   ]
  },
  {
   "cell_type": "code",
   "execution_count": 71,
   "metadata": {},
   "outputs": [
    {
     "data": {
      "text/plain": [
       "[['a0', 'a', 'a'], ['a2', 'a', 'a'], ['a1', 'b', 'c'], ['c1', 'c', 'b']]"
      ]
     },
     "execution_count": 71,
     "metadata": {},
     "output_type": "execute_result"
    }
   ],
   "source": [
    "sorted(b, key = lambda x: (x[1:], x[0]) )"
   ]
  },
  {
   "cell_type": "code",
   "execution_count": 63,
   "metadata": {},
   "outputs": [],
   "source": [
    "?sorted"
   ]
  },
  {
   "cell_type": "code",
   "execution_count": null,
   "metadata": {},
   "outputs": [],
   "source": [
    "for i in let_idx:\n",
    "    if ''.join(logs_split[i+1][1:]) < ''.join(logs_split[i][1:])"
   ]
  }
 ],
 "metadata": {
  "kernelspec": {
   "display_name": "Python 3",
   "language": "python",
   "name": "python3"
  },
  "language_info": {
   "codemirror_mode": {
    "name": "ipython",
    "version": 3
   },
   "file_extension": ".py",
   "mimetype": "text/x-python",
   "name": "python",
   "nbconvert_exporter": "python",
   "pygments_lexer": "ipython3",
   "version": "3.7.6"
  }
 },
 "nbformat": 4,
 "nbformat_minor": 4
}
