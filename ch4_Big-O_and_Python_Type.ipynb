{
 "cells": [
  {
   "cell_type": "markdown",
   "metadata": {},
   "source": [
    "# 1. big-O Notation\n",
    "> 빅오( O, big-O )란 입력값이 무한대로 향할때 함수의 상한을 설명하는 수학적 표기 방법이다.\n",
    "\n",
    "빅오는 점근적 실행 시간(Asymptotic Running Time)을 표기할 때 가장 널리 쓰이는 수학적 표기법이다.\n",
    "<br/>\n",
    "점근적 실행 시간 : 입력값 n이 무한히 커질 때, 함수를 실행하는데 걸리는 시간.\n",
    "<br/><br/>\n",
    "점근적 실행시간을 시간 복잡도(Time Complexity)라고도 말할 수 있다.  \n",
    "시간 복잡도는 어떤 알고리즘을 수행하는데 걸리는 시간을 설명하는 계산 복잡도를 의미하는데, 계산 복잡도를 표기하는 대표적인 방법이 big-O다.\n",
    "<br/><br/>\n",
    "시간 복잡도를 표현할 떄는 최고차항만을 표기하며, 상수항은 무시한다.  \n",
    "즉, 입력값 n에 대해 $4n^{2}+3n+4$번 만큼 계산하는 함수가 있다면 이 함수의 시간 복잡도는 $O(n^{2})$이 된다."
   ]
  },
  {
   "cell_type": "markdown",
   "metadata": {},
   "source": [
    "## 1.1 big-O 표기법의 종류\n",
    "---\n",
    "- $O(1)$ : 입력값에 상관없이 실행시간이 일정. ex ) 해시 테이블의 조회 및 삽입\n",
    "- $O(\\log n)$ : 실행시간이 입력값에 로그를 취한 것에 비례하여 영향받는다. 로그는 매우 큰 입력값에도 크게 영향받지 않는 편이므로 웬만한 n의 크기에 대해서도 매우 견고함. ex ) binary search\n",
    "- $O(n)$ : 알고리즘을 수행하는 데 걸리는 시간이 입력값에 비례한다. Linear-Time 알고리즘. ex ) 정렬되지 않은 리스트에서 최댓값, 최솟값 찾기\n",
    "- $O(n\\log n)$ : merge sort 를 비롯한 대부분의 효율 좋은 정렬(sort) 알고리즘들이 이에 해당.\n",
    "- $O(n^{2})$ : bubble sort 같은 비효율적인 정렬 알고리즘.\n",
    "- $O(2^{n})$ : 피보나치 수를 재귀로 계산하는 알고리즘 등.\n",
    "- $O(n!)$ : 외판원 문제(Travelling Salesman Problem)를 브루트 포스로 풀이할 때가 이에 해당. 가장 느린 알고리즘.\n",
    "---\n",
    "빅오는 시간 복잡도 외에도 공간 복잡도를 표현하는 데에도 널리 쓰인다. 또한, 대부분의 경우에 알고리즘들은  '시간-공간 트레이드오프(Space-Time Tradeoff)'관계에 있다. (실행 시간이 빠른 알고리즘은 공간을 많이 사용하고, 공간을 적게 차지하는 알고리즘은 실행 시간이 느림.)"
   ]
  },
  {
   "cell_type": "markdown",
   "metadata": {},
   "source": [
    "## 1.2 상한과 최악\n",
    "빅오(O)는 상한(Upper Bound)을 의미한다. 상한을 최악과 혼동하는 것을 주의하자.  \n",
    "<img src = \"https://github.com/changdaeoh/Algorithm_study/blob/main/images/4_2.jpg?raw=true\" width = \"40%\" height = \"40%\">\n",
    "<img src = \"https://github.com/changdaeoh/Algorithm_study/blob/main/images/4_3.jpg?raw=true\" width = \"40%\" height = \"40%\">\n",
    "(최선, 평균, 최악의 복잡도)는 하나의 구체적인 경우(case)에 관하여 정의되는 반면,  \n",
    "상한(big O)과 하한(big Omega)은 그 개별적인 경우들에 대해 포괄적으로 정의된다.  \n",
    "→ **빅오 표기법은 주어진(최선/최악/평균) 경우의 수행 시간의 상한을 나타낸다.**"
   ]
  }
 ],
 "metadata": {
  "kernelspec": {
   "display_name": "Python 3",
   "language": "python",
   "name": "python3"
  },
  "language_info": {
   "codemirror_mode": {
    "name": "ipython",
    "version": 3
   },
   "file_extension": ".py",
   "mimetype": "text/x-python",
   "name": "python",
   "nbconvert_exporter": "python",
   "pygments_lexer": "ipython3",
   "version": "3.7.6"
  }
 },
 "nbformat": 4,
 "nbformat_minor": 4
}
