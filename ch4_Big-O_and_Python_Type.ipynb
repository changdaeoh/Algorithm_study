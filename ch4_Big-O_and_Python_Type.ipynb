{
 "cells": [
  {
   "cell_type": "markdown",
   "metadata": {},
   "source": [
    "# 1. big-O Notation\n",
    "> 빅오( O, big-O )란 입력값이 무한대로 향할때 함수의 상한을 설명하는 수학적 표기 방법이다.\n",
    "\n",
    "빅오는 점근적 실행 시간(Asymptotic Running Time)을 표기할 때 가장 널리 쓰이는 수학적 표기법이다.\n",
    "<br/>\n",
    "점근적 실행 시간 : 입력값 n이 무한히 커질 때, 함수를 실행하는데 걸리는 시간.\n",
    "<br/><br/>\n",
    "점근적 실행시간을 시간 복잡도(Time Complexity)라고도 말할 수 있다.  \n",
    "시간 복잡도는 어떤 알고리즘을 수행하는데 걸리는 시간을 설명하는 계산 복잡도를 의미하는데, 계산 복잡도를 표기하는 대표적인 방법이 big-O다.\n",
    "<br/><br/>\n",
    "시간 복잡도를 표현할 떄는 최고차항만을 표기하며, 상수항은 무시한다.  \n",
    "즉, 입력값 n에 대해 $4n^{2}+3n+4$번 만큼 계산하는 함수가 있다면 이 함수의 시간 복잡도는 $O(n^{2})$이 된다."
   ]
  },
  {
   "cell_type": "markdown",
   "metadata": {},
   "source": [
    "### 1.1 big-O 표기법의 종류\n",
    "---\n",
    "- $O(1)$ : 입력값에 상관없이 실행시간이 일정. ex ) 해시 테이블의 조회 및 삽입\n",
    "- $O(\\log n)$ : 실행시간이 입력값에 로그를 취한 것에 비례하여 영향받는다. 로그는 매우 큰 입력값에도 크게 영향받지 않는 편이므로 웬만한 n의 크기에 대해서도 매우 견고함. ex ) binary search\n",
    "- $O(n)$ : 알고리즘을 수행하는 데 걸리는 시간이 입력값에 비례한다. Linear-Time 알고리즘. ex ) 정렬되지 않은 리스트에서 최댓값, 최솟값 찾기\n",
    "- $O(n\\log n)$ : merge sort 를 비롯한 대부분의 효율 좋은 정렬(sort) 알고리즘들이 이에 해당.\n",
    "- $O(n^{2})$ : bubble sort 같은 비효율적인 정렬 알고리즘.\n",
    "- $O(2^{n})$ : 피보나치 수를 재귀로 계산하는 알고리즘 등.\n",
    "- $O(n!)$ : 외판원 문제(Travelling Salesman Problem)를 브루트 포스로 풀이할 때가 이에 해당. 가장 느린 알고리즘.\n",
    "---\n",
    "빅오는 시간 복잡도 외에도 공간 복잡도를 표현하는 데에도 널리 쓰인다. 또한, 대부분의 경우에 알고리즘들은  '시간-공간 트레이드오프(Space-Time Tradeoff)'관계에 있다. (실행 시간이 빠른 알고리즘은 공간을 많이 사용하고, 공간을 적게 차지하는 알고리즘은 실행 시간이 느림.)"
   ]
  },
  {
   "cell_type": "markdown",
   "metadata": {},
   "source": [
    "### 1.2 상한과 최악\n",
    "빅오(O)는 상한(Upper Bound)을 의미한다. 상한을 최악과 혼동하는 것을 주의하자.  \n",
    "<img src = \"https://github.com/changdaeoh/Algorithm_study/blob/main/images/4_2.jpg?raw=true\" width = \"40%\" height = \"40%\">\n",
    "<img src = \"https://github.com/changdaeoh/Algorithm_study/blob/main/images/4_3.jpg?raw=true\" width = \"40%\" height = \"40%\">\n",
    "(최선, 평균, 최악의 복잡도)는 하나의 구체적인 경우(case)에 관하여 정의되는 반면,  \n",
    "상한(big O)과 하한(big Omega)은 그 개별적인 경우들에 대해 포괄적으로 정의된다.  \n",
    "→ **빅오 표기법은 주어진(최선/최악/평균) 경우의 수행 시간의 상한을 나타낸다.**"
   ]
  },
  {
   "cell_type": "markdown",
   "metadata": {},
   "source": [
    "### 1.3 분할 상환 분석 (Amortized Analysis)\n",
    "시간 또는 메모리를 분석하는 알고리즘의 복잡도를 계산할 때, 알고리즘의 전체를 보지 않고  \n",
    "최악의 경우만을 고려하는 것은 지나치게 비관적이다는 주장.  \n",
    "<br/>\n",
    ">ex ) 주어진 메모리 공간이 가득 차면 공간을 두 배로 할당받아 기존 요소를 옮긴 후 더 많은 요소를 추가할 수 있는 '동적배열'이 있을 때, 더블링이 일어나는 일은 공간에 모든 요소가 채워지는 순간 한 번뿐인데, '아이템 삽입 시 시간 복잡도는 O(n)이다'라고 주장하는 것은 지나치게 비관적이며, 정확하지 않다는 것.\n",
    "\n",
    "이 경우 '분활 상환' 또는 '상각'이라고 표현하는, 최악의 경우를 여러 번에 걸쳐 골고루 나눠주는 형태로 알고리즘의 시간 복잡도를 계산할 수 있다. (이 경우 동적배열의 삽입 시 시간 복잡도는 O(1)이 된다.)"
   ]
  },
  {
   "cell_type": "markdown",
   "metadata": {},
   "source": [
    "### 1.4 병렬화 \n",
    "일부 알고리즘들은 병렬화로 실행 속도를 높일 수 있다.  \n",
    "병렬연산을 위한 대표적인 장치 GPU  \n",
    ": 각각의 코어는 CPU보다 훨씬 느리지만 GPU의 코어 수는 CPU의 수백 배.\n",
    "<br/><br/>\n",
    "병렬화 가능성은 알고리즘의 우수성을 평가하는데 매우 중요한 척도"
   ]
  },
  {
   "cell_type": "markdown",
   "metadata": {},
   "source": [
    "# 2. Type\n",
    "* 파이썬이 어떤 자료형을 제공하는지, 각각의 자료형에 어떤 특징이 있는지 알아본다.  \n",
    "* 핵심 자료형인 List와 Dictionary에 대해 중점적으로 살펴본다."
   ]
  },
  {
   "cell_type": "markdown",
   "metadata": {},
   "source": [
    "### 2.1 파이썬 자료형\n",
    "<img src = \"https://github.com/changdaeoh/Algorithm_study/blob/main/images/4_4.jpg?raw=true\" width = \"65%\" height = \"65%\">\n",
    "\n",
    "> **2.1.1 숫자**\n",
    ">> 임의 정밀도(무제한 자릿수)를 지원하는 int.  \n",
    ">> int의 서브클래스인 bool 자료형 1(True), 0(False)\n",
    "* object > int > bool\n",
    "\n",
    "<br/>\n",
    "\n",
    "> **2.1.2 매핑**\n",
    ">> 키와 자료형으로 구성된 복합 자료형.  \n",
    ">> 파이썬 내장 유일한 매핑 자료형은 딕셔너리(dictionary)\n",
    "\n",
    "<br/>\n",
    "\n",
    "> **2.1.3 집합**\n",
    ">> 중복된 값을 갖지 않는 자료형\n",
    "\n",
    "<br/>\n",
    "\n",
    "> 2.1.4 시퀀스\n",
    ">> 어떤 특정 대상의 순서 있는 나열. 불변(ex. string)과 가변(ex. list)으로 구분됨."
   ]
  },
  {
   "cell_type": "code",
   "execution_count": 4,
   "metadata": {},
   "outputs": [
    {
     "name": "stdout",
     "output_type": "stream",
     "text": [
      "set()\n",
      "<class 'set'>\n",
      "<class 'set'>\n",
      "<class 'dict'>\n",
      "{2, 3, 5}\n"
     ]
    }
   ],
   "source": [
    "a = set()\n",
    "print(a)\n",
    "print(type(a))\n",
    "\n",
    "a = {'a','b','c'}\n",
    "print(type(a))\n",
    "\n",
    "a = {'a':'A','b':'B','c':'C'}\n",
    "print(type(a))\n",
    "\n",
    "a = {3,2,3,5}\n",
    "print(a)"
   ]
  },
  {
   "cell_type": "markdown",
   "metadata": {},
   "source": [
    "### 2.2 원시타입과 객체\n",
    ">c나 java같은 언어들은 기본적으로 **원시타입**을 제공하는데, \n",
    "원시타입은 메모리에 정확하게 타입의 크기만큼의 공간을 할당하고 그 공간을 오로지 값으로 채워넣는다.  \n",
    "<br/>\n",
    "java같은 언어들은 원시타입과 대응되는 객체를 갖고 있으며, \n",
    "원시타입을 객체로 변환하면 여러가지 작업들을 수행할 수 있게되는데, 이런 기능들을 제공하기 위해 속도와 공간을 희생한다. \n",
    "\n",
    "<br/><br/>\n",
    "파이썬은 객체 타입만을 지원하며, 파이썬에서 변수를 할당하는 작업은 해당 객체에 대해 참조를 한다는 의미이다.  \n",
    "객체는 불변객체와 가변객체로 나뉜다.   \n",
    "파이썬에서 변수를 할당하는 작업은 해당 객체에 대해 참조를 한다는 의미\n",
    "```python\n",
    "10\n",
    "a = 10\n",
    "b = a\n",
    "id(10), id(a), id(b) # 모두 동일한 주소를 가짐 (id : 객체의 메모리상 주소를 얻어오는 함수)\n",
    "```\n",
    "값을 담고 있는 변수는 참조일 뿐, 실제로 값을 갖고 있는 int와 str은 모두 불변 객체이다.\n",
    "<br/><br/>\n",
    "가변객체 중 하나로 리스트가 있다.\n",
    "```python\n",
    "a = [1,2,3,4,5]\n",
    "b = a\n",
    "a[2] = 4\n",
    "# a = [1,2,4,4,5]\n",
    "# b = [1,2,4,4,5]\n",
    "```\n",
    "list인 a의 요소 하나를 조작해서 값을 변경하였더니 a를 할당하여 참조되게 한 b의 값도 변경되었다."
   ]
  },
  {
   "cell_type": "code",
   "execution_count": 1,
   "metadata": {},
   "outputs": [
    {
     "name": "stdout",
     "output_type": "stream",
     "text": [
      "[1, 2, 3] [1, 2, 3]\n",
      "2978371141384 2978371141384\n",
      "[5, 2, 3] [5, 2, 3]\n",
      "2978371141384 2978371141384\n",
      "[1, 5] [5, 2, 3]\n",
      "2978370279816 2978371141384\n"
     ]
    }
   ],
   "source": [
    "a = [1,2,3]\n",
    "b = a\n",
    "print(a, b)\n",
    "print(id(a), id(b))\n",
    "b[0] = 5\n",
    "print(a, b)\n",
    "print(id(a), id(b))\n",
    "a = [1,5]\n",
    "print(a, b)\n",
    "print(id(a), id(b))"
   ]
  },
  {
   "cell_type": "markdown",
   "metadata": {},
   "source": [
    "> is와 ==  \n",
    "* is는 주소를 비교한다.\n",
    "* ==는 값을 비교한다.\n",
    "```python\n",
    "a = [1,2,3]\n",
    "a == copy.deepcopy(a) # -> True\n",
    "a is copy.deepcopy(a) # -> False\n",
    "```"
   ]
  },
  {
   "cell_type": "markdown",
   "metadata": {},
   "source": [
    "### 2.3 속도\n",
    "C나 java와 비교했을 때, 모든것이 객체 구조로 설계된 파이썬은 매우 편리하고 강력하지만, 속도는 더 느리다.  \n",
    "(원시타입과 객체의 계산/처리속도 차이)"
   ]
  }
 ],
 "metadata": {
  "kernelspec": {
   "display_name": "Python 3",
   "language": "python",
   "name": "python3"
  },
  "language_info": {
   "codemirror_mode": {
    "name": "ipython",
    "version": 3
   },
   "file_extension": ".py",
   "mimetype": "text/x-python",
   "name": "python",
   "nbconvert_exporter": "python",
   "pygments_lexer": "ipython3",
   "version": "3.7.6"
  }
 },
 "nbformat": 4,
 "nbformat_minor": 4
}
