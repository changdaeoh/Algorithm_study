{
 "cells": [
  {
   "cell_type": "markdown",
   "metadata": {},
   "source": [
    "* stack : Last-In-First-Out\n",
    "* queue : First-In-First-Out\n",
    "\n",
    "파이썬의 리스트는 동적배열로 구현되어 있는데, 스택과 큐의 모든 연산을 지원함.<br/>\n",
    "큐 연산을 효율적으로 수행하기 위해서는 Deque(덱)이라는 별도의 자료형을 사용할 필요가 있으나,<br/>\n",
    "성능을 고려하지 않는다면 리스트만 잘 사용해도 충분"
   ]
  },
  {
   "cell_type": "code",
   "execution_count": 1,
   "metadata": {},
   "outputs": [],
   "source": [
    "# 연결리스트를 이용한 스택 ADT 구현\n",
    "class Node:\n",
    "    def __init__(self, item, next):\n",
    "        self.item = item\n",
    "        self.next = next\n",
    "\n",
    "class Stack:\n",
    "    def __init__(self):\n",
    "        self.last = None\n",
    "    \n",
    "    def push(self, item):\n",
    "        self.last = Node(item, self.last)\n",
    "    \n",
    "    def pop(self):\n",
    "        item = self.last.item\n",
    "        self.last = self.last.next\n",
    "        return item"
   ]
  },
  {
   "cell_type": "code",
   "execution_count": 3,
   "metadata": {},
   "outputs": [
    {
     "name": "stdout",
     "output_type": "stream",
     "text": [
      "5\n",
      "4\n",
      "3\n",
      "2\n",
      "1\n"
     ]
    }
   ],
   "source": [
    "stack = Stack()\n",
    "stack.push(1)\n",
    "stack.push(2)\n",
    "stack.push(3)\n",
    "stack.push(4)\n",
    "stack.push(5)\n",
    "\n",
    "for _ in range(5):\n",
    "    print(stack.pop())"
   ]
  },
  {
   "cell_type": "markdown",
   "metadata": {},
   "source": [
    "# q20 유효한 괄호"
   ]
  },
  {
   "cell_type": "code",
   "execution_count": 17,
   "metadata": {},
   "outputs": [
    {
     "data": {
      "text/plain": [
       "False"
      ]
     },
     "execution_count": 17,
     "metadata": {},
     "output_type": "execute_result"
    }
   ],
   "source": [
    "# 내풀이\n",
    "def isvalid(s:str)->bool:\n",
    "    # keys : open, values : close\n",
    "    dic = {'(':')', \"[\":\"]\", \"{\":\"}\"}\n",
    "    \n",
    "    buffer = []\n",
    "    for char in s:\n",
    "        if char in dic.keys():\n",
    "            buffer.append(char)\n",
    "        elif (len(buffer) == 0) or (dic[buffer.pop()] != char) : \n",
    "            return False\n",
    "            \n",
    "    return len(buffer) == 0\n",
    "\n",
    "isvalid(\"(){}}{\")"
   ]
  },
  {
   "cell_type": "code",
   "execution_count": null,
   "metadata": {},
   "outputs": [],
   "source": [
    "# 교재풀이\n",
    "class Solution:\n",
    "    def isValid(self, s: str) -> bool:\n",
    "        stack = []\n",
    "        table = {\n",
    "            ')': '(',\n",
    "            '}': '{',\n",
    "            ']': '[',\n",
    "        }\n",
    "\n",
    "        # 스택 이용 예외 처리 및 일치 여부 판별\n",
    "        for char in s:\n",
    "            if char not in table:\n",
    "                stack.append(char)\n",
    "            elif not stack or table[char] != stack.pop():\n",
    "                return False\n",
    "        return len(stack) == 0"
   ]
  },
  {
   "cell_type": "markdown",
   "metadata": {},
   "source": [
    "# Q21 중복문자 제거"
   ]
  },
  {
   "cell_type": "code",
   "execution_count": 23,
   "metadata": {},
   "outputs": [
    {
     "name": "stdout",
     "output_type": "stream",
     "text": [
      "['a', 'b', 'c', 'd']\n",
      "['a', 'b', 'c', 'd', 'f', 'g', 'r', 's']\n",
      "['c', 'b', 'a', 'c', 'd', 'c', 'b', 'c']\n"
     ]
    }
   ],
   "source": [
    "s = \"cbacdcbc\"\n",
    "d = \"cascabbsrgsdf\"\n",
    "print(sorted(set(s)))\n",
    "print(sorted(set(d)))\n",
    "print(list(s))"
   ]
  },
  {
   "cell_type": "code",
   "execution_count": 26,
   "metadata": {},
   "outputs": [
    {
     "data": {
      "text/plain": [
       "0"
      ]
     },
     "execution_count": 26,
     "metadata": {},
     "output_type": "execute_result"
    }
   ],
   "source": [
    "list(s).index('c')"
   ]
  },
  {
   "cell_type": "code",
   "execution_count": 28,
   "metadata": {},
   "outputs": [],
   "source": [
    "# 재귀풀이\n",
    "def remover(s:str)->str:\n",
    "    for char in sorted(set(s)):\n",
    "        suffix = s[s.index(char):]\n",
    "        # 전체집합과 접미사 집합이 일치할 때 분리 진행\n",
    "        if set(s) == set(suffix):\n",
    "            return char + remover(suffix.replace(char, ''))\n",
    "    # 모든 unique 문자 다돌고 마지막에 ''리턴\n",
    "    return ''"
   ]
  },
  {
   "cell_type": "code",
   "execution_count": 29,
   "metadata": {},
   "outputs": [
    {
     "data": {
      "text/plain": [
       "'acdb'"
      ]
     },
     "execution_count": 29,
     "metadata": {},
     "output_type": "execute_result"
    }
   ],
   "source": [
    "remover(s)"
   ]
  },
  {
   "cell_type": "code",
   "execution_count": null,
   "metadata": {},
   "outputs": [],
   "source": [
    "def remover(s:str) -> str:\n",
    "    counter, seen, stack = collections.Counter(s), set(), []\n",
    "    \n",
    "    for char in s:\n",
    "        counter[char] -= 1             # 순회될 때마다 count 1씩 감소\n",
    "        if char in seen:               # 한번이라도 순회한 문자 만나면 다음인덱스로 건너뜀\n",
    "            continue\n",
    "        # 조건 : stack에 문자가 있고, 새로 조회한 문자가 stack의 가장 위 문자보다 더 빠르며,\n",
    "        #       그 stack 가장 위의 문자가 뒤에 또 나온다면. 제거 쌉가능이다 이말이야\n",
    "        while stack and char < stack[-1] and counter[stack[-1]] > 0:\n",
    "            seen.remove(stack.pop())   # 해당 문자를 stack에서도 꺼내고 seen에서도 제거해버림\n",
    "        stack.append(char)             # 별 일 없으면 문자 stack에 추가\n",
    "        seen.add(char)                 # 고유한 문자 seen 집합에 추가\n",
    "    \n",
    "    return ''.join(stack)    "
   ]
  }
 ],
 "metadata": {
  "kernelspec": {
   "display_name": "Python 3",
   "language": "python",
   "name": "python3"
  },
  "language_info": {
   "codemirror_mode": {
    "name": "ipython",
    "version": 3
   },
   "file_extension": ".py",
   "mimetype": "text/x-python",
   "name": "python",
   "nbconvert_exporter": "python",
   "pygments_lexer": "ipython3",
   "version": "3.7.6"
  }
 },
 "nbformat": 4,
 "nbformat_minor": 4
}
