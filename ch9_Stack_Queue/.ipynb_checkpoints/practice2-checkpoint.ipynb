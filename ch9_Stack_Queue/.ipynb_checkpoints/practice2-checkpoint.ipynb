{
 "cells": [
  {
   "cell_type": "markdown",
   "metadata": {},
   "source": [
    "> Queue는 시퀀스의 한쪽 끝에는 엔티티를 추가하고, 다른 반대쪽 끝에는 제거할 수 있는 엔티티 컬렉션<BR/>\n",
    "FIFO"
   ]
  },
  {
   "cell_type": "markdown",
   "metadata": {},
   "source": [
    "# Q23 큐를이용한 스택구현"
   ]
  },
  {
   "cell_type": "code",
   "execution_count": 1,
   "metadata": {},
   "outputs": [],
   "source": [
    "class MyStack:\n",
    "    def __init__(self):\n",
    "        self.stack = []\n",
    "\n",
    "    def push(self, x: int) -> None:\n",
    "        self.stack.append(x)\n",
    "        \n",
    "    def pop(self) -> int:\n",
    "        return self.stack.pop()\n",
    "\n",
    "    def top(self) -> int:\n",
    "        return self.stack[-1]\n",
    "\n",
    "    def empty(self) -> bool:\n",
    "        return len(self.stack) == 0"
   ]
  },
  {
   "cell_type": "code",
   "execution_count": 2,
   "metadata": {},
   "outputs": [
    {
     "name": "stdout",
     "output_type": "stream",
     "text": [
      "2 2 False\n"
     ]
    }
   ],
   "source": [
    "stack = MyStack()\n",
    "stack.push(1)\n",
    "stack.push(2)\n",
    "res1 = stack.top()\n",
    "res2 = stack.pop()\n",
    "res3 = stack.empty()\n",
    "print(res1, res2, res3)"
   ]
  },
  {
   "cell_type": "code",
   "execution_count": null,
   "metadata": {},
   "outputs": [],
   "source": [
    "# 덱 자료형 이용, queue 연산만 사용\n",
    "import collections\n",
    "\n",
    "class MyStack:\n",
    "    def __init__(self):\n",
    "        self.q = collections.deque()\n",
    "\n",
    "    def push(self, x: int) -> None:\n",
    "        self.q.append(x)\n",
    "        # 원소 추가시마다 추가한 원소가 가장 앞으로 가도록 FIFO 반복\n",
    "        for _ in range(len(self.q) - 1):\n",
    "            self.q.append(self.q.popleft())\n",
    "        \n",
    "    def pop(self) -> int:\n",
    "        return q.popleft()\n",
    "\n",
    "    def top(self) -> int:\n",
    "        return self.q[0]\n",
    "\n",
    "    def empty(self) -> bool:\n",
    "        return len(self.q) == 0"
   ]
  },
  {
   "cell_type": "code",
   "execution_count": null,
   "metadata": {},
   "outputs": [],
   "source": [
    "class MyStack:\n",
    "    def __init__(self):\n",
    "        self.queue1=[]\n",
    "        self.queue2=[]\n",
    "\n",
    "    def push(self, x: int) -> None:\n",
    "        self.queue1.append(x)\n",
    "        \n",
    "    def pop(self) -> int:\n",
    "        while len(self.queue1) > 1:                   \n",
    "            self.queue2.append(self.queue1.pop(0)) # 첫 원소 뽑아(FIFO) 다른 큐에 넣음 (마지막원소만 남기까지)\n",
    "        temp = self.queue1.pop()                   # 마지막 추가원소 임시저장\n",
    "        # queue 1은 마지막 추가원소가 제거된 상태가 되고\n",
    "        # queue 2는 비어있는 queue로 초기화됨.\n",
    "        self.queue1, self.queue2 = self.queue2, self.queue1 \n",
    "        return temp\n",
    "\n",
    "    def top(self) -> int:\n",
    "        return self.queue1[-1]\n",
    "\n",
    "    def empty(self) -> bool:\n",
    "        return len(self.queue1) == 0"
   ]
  },
  {
   "cell_type": "markdown",
   "metadata": {},
   "source": [
    "# Q24 스택을 이용한 큐 구현"
   ]
  },
  {
   "cell_type": "markdown",
   "metadata": {},
   "source": [
    "<img src = \"https://github.com/changdaeoh/Algorithm_study/blob/main/images/9_24.jpg?raw=true\" width = \"80%\" height = \"80%\">"
   ]
  },
  {
   "cell_type": "code",
   "execution_count": null,
   "metadata": {},
   "outputs": [],
   "source": [
    "# sol1. 2개의 스택\n",
    "class MyQueue:\n",
    "    def __init__(self):\n",
    "        self.input = []\n",
    "        self.output = []    \n",
    "        \n",
    "    def push(self, x: int) -> None:\n",
    "        self.input.append(x)\n",
    "\n",
    "    def pop(self) -> int:\n",
    "        self.peek()\n",
    "        return self.output.pop()\n",
    "\n",
    "    def peek(self) -> int:\n",
    "        # output stack이 비었으면 input stack의 위에서부터 뽑아 채움\n",
    "        if not self.output:\n",
    "            while self.input:\n",
    "                self.output.append(self.input.pop())\n",
    "        return self.output[-1]\n",
    "\n",
    "    def empty(self) -> bool:\n",
    "        return self.input == [] and self.output == []\n",
    "    \n",
    "# 전체 요소들을 굳이 하나의 개체에 보관할 필요없음. \n",
    "# => input, output 리스트에 나누어 보관"
   ]
  },
  {
   "cell_type": "code",
   "execution_count": null,
   "metadata": {},
   "outputs": [],
   "source": [
    "# sol2. 비효율적\n",
    "class MyQueue:\n",
    "    def __init__(self):\n",
    "        self.stack1 = []\n",
    "        self.stack2 = []    \n",
    "        \n",
    "    def push(self, x: int) -> None:\n",
    "        self.stack1.append(x)\n",
    "\n",
    "    def pop(self) -> int:\n",
    "        while len(self.stack1) > 0:\n",
    "            self.stack2.append(self.stack1.pop())\n",
    "        out = self.stack2.pop()\n",
    "        while len(self.stack2) > 0:\n",
    "            self.stack1.append(self.stack2.pop())\n",
    "        return out\n",
    "\n",
    "    def peek(self) -> int:\n",
    "        while len(self.stack1) > 0:\n",
    "            self.stack2.append(self.stack1.pop())\n",
    "        out = self.stack2[-1]\n",
    "        while len(self.stack2) > 0:\n",
    "            self.stack1.append(self.stack2.pop())\n",
    "        return out\n",
    "\n",
    "    def empty(self) -> bool:\n",
    "        return len(self.stack1) == 0"
   ]
  },
  {
   "cell_type": "markdown",
   "metadata": {},
   "source": [
    "# Q25 원형 큐 디자인"
   ]
  },
  {
   "cell_type": "markdown",
   "metadata": {},
   "source": [
    "<img src = \"https://github.com/changdaeoh/Algorithm_study/blob/main/images/9_circluar_queue.png?raw=true\" width = \"80%\" height = \"80%\">\n",
    "\n",
    "실제 구현은 REAR 포인터가 항상 요소들의 가장 끝 이후 공간의 None을 가리키도록 함"
   ]
  },
  {
   "cell_type": "code",
   "execution_count": null,
   "metadata": {},
   "outputs": [],
   "source": [
    "class MyCircularQueue:\n",
    "    def __init__(self, k: int):\n",
    "        self.size = k\n",
    "        self.queue = [None] * k\n",
    "        self.p_front = 0\n",
    "        self.p_rear = 0\n",
    "    \n",
    "    # rear 포인터를 이동시키면서 값 삽입\n",
    "    def enQueue(self, value: int) -> bool:\n",
    "        if self.queue[self.p_rear] is None:\n",
    "            self.queue[self.p_rear] = value\n",
    "            self.p_rear = (self.p_rear + 1) % self.size\n",
    "            return True\n",
    "        # 삽입하려는데 값 있으면 오류\n",
    "        else:\n",
    "            return False\n",
    "    \n",
    "    # front 포인터를 이동시키면서 값 삭제\n",
    "    def deQueue(self) -> bool:\n",
    "        # 삭제하려는데 None이면 오류\n",
    "        if self.queue[self.p_front] is None:\n",
    "            return False\n",
    "        else:\n",
    "            self.queue[self.p_front] = None\n",
    "            self.p_front = (self.p_front + 1) % self.size\n",
    "            return True\n",
    "\n",
    "    def Front(self) -> int:\n",
    "        return -1 if self.queue[self.p_front] is None else self.queue[self.p_front]\n",
    "\n",
    "    def Rear(self) -> int:\n",
    "        return -1 if self.queue[self.p_rear - 1] is None else self.queue[self.p_rear - 1]\n",
    "\n",
    "    def isEmpty(self) -> bool:\n",
    "        return self.p_front == self.p_rear and self.queue[self.p_front] is None\n",
    "\n",
    "    def isFull(self) -> bool:\n",
    "        return self.p_front == self.p_rear and self.queue[self.p_front] is not None\n",
    "\n",
    "# Your MyCircularQueue object will be instantiated and called as such:\n",
    "# obj = MyCircularQueue(k)\n",
    "# param_1 = obj.enQueue(value)\n",
    "# param_2 = obj.deQueue()\n",
    "# param_3 = obj.Front()\n",
    "# param_4 = obj.Rear()\n",
    "# param_5 = obj.isEmpty()\n",
    "# param_6 = obj.isFull()"
   ]
  }
 ],
 "metadata": {
  "kernelspec": {
   "display_name": "Python 3",
   "language": "python",
   "name": "python3"
  },
  "language_info": {
   "codemirror_mode": {
    "name": "ipython",
    "version": 3
   },
   "file_extension": ".py",
   "mimetype": "text/x-python",
   "name": "python",
   "nbconvert_exporter": "python",
   "pygments_lexer": "ipython3",
   "version": "3.7.6"
  }
 },
 "nbformat": 4,
 "nbformat_minor": 4
}
