{
 "cells": [
  {
   "cell_type": "markdown",
   "metadata": {},
   "source": [
    "# LIST\n",
    "<img src = \"https://github.com/changdaeoh/Algorithm_study/blob/main/images/5_2.jpg?raw=true\" width = \"70%\">\n",
    "\n",
    "* 파이썬은 모든 것이 객체이며\n",
    "* 파이썬의 리스트는 객체들에 대한 포인터 목록을 배열형태로 관리하게끔 구현되어 있음\n",
    "* 서로다른 type을 함꼐 다루기 위해 연속된 메모리 공간에 할당하는것을 포기 각각의 객체에 대한 참조로 구현 <br/>\n",
    "-> 강력한 기능을 위해 속도를 희생 "
   ]
  },
  {
   "cell_type": "code",
   "execution_count": 9,
   "metadata": {},
   "outputs": [
    {
     "name": "stdout",
     "output_type": "stream",
     "text": [
      "[True, 'str', 5, 1, 2, 3, 4]\n",
      "[True, 5, 2, 4]\n",
      "존재하지 않는 인덱스\n"
     ]
    }
   ],
   "source": [
    "a = [1,2,3]\n",
    "a.append(4)\n",
    "a.insert(0, 5) # insert(index = , value = )\n",
    "a.insert(0, True)\n",
    "a.insert(1, \"str\")\n",
    "\n",
    "print(a) # list의 요소들은 type 제한이 없음\n",
    "print(a[::2])\n",
    "\n",
    "try:\n",
    "    print(a[9])\n",
    "except IndexError:\n",
    "    print(\"존재하지 않는 인덱스\")"
   ]
  },
  {
   "cell_type": "code",
   "execution_count": 10,
   "metadata": {},
   "outputs": [
    {
     "name": "stdout",
     "output_type": "stream",
     "text": [
      "[True, 'str', 5, 1, 2, 3, 4]\n",
      "['str', 5, 1, 2, 3, 4]\n",
      "['str', 5, 1, 2, 3, 4]\n",
      "[5, 1, 2, 3, 4]\n"
     ]
    }
   ],
   "source": [
    "# 리스트 요소삭제\n",
    "# 1. 인덱스로 삭제\n",
    "print(a)\n",
    "del a[0]\n",
    "print(a)\n",
    "\n",
    "# 2. 값으로 삭제\n",
    "print(a)\n",
    "a.remove('str')\n",
    "print(a)"
   ]
  },
  {
   "cell_type": "markdown",
   "metadata": {},
   "source": [
    "# DICTIONARY\n",
    "\n",
    "* 내부적으로 Hast Table로 구현되어 있음.\n",
    "* 숫자만 key로써 사용할 수 있는 다른 언어들과는 다르게 해시할 수만 있다면 <br/>\n",
    "문자, 집합 등의 모든 불변객체를 키로 사용할 수 있음\n",
    "* 입력과 조회, 키/값 삽입, 키 존재성 확인 모두 O(1)\n",
    "---\n",
    "> * `collections.OrderDict()` : 입력 순서 유지\n",
    "* `collections.defaultdict()` : 조회 시 항상 디폴트 값을 생성해 키 오류 방지\n",
    "* `collection.Counter()` : 요소의 값을 키로, 개수를 값 형태로 만들어 카운팅 "
   ]
  },
  {
   "cell_type": "code",
   "execution_count": 14,
   "metadata": {},
   "outputs": [
    {
     "name": "stdout",
     "output_type": "stream",
     "text": [
      "존재하지 않는 키\n",
      "key1 1\n",
      "key2 2\n",
      "{'key2': 2}\n"
     ]
    }
   ],
   "source": [
    "dic = {'key1' : 1, 'key2' : 2}\n",
    "\n",
    "if 'key4' in dic:\n",
    "    print(\"존재하는 키\")\n",
    "else :\n",
    "    print(\"존재하지 않는 키\") \n",
    "    \n",
    "for k, v in dic.items():\n",
    "    print(k, v)\n",
    "\n",
    "del dic['key1']\n",
    "print(dic)"
   ]
  },
  {
   "cell_type": "code",
   "execution_count": 21,
   "metadata": {},
   "outputs": [
    {
     "name": "stdout",
     "output_type": "stream",
     "text": [
      "defaultdict(<class 'int'>, {'A': 5, 'B': 4})\n",
      "defaultdict(<class 'int'>, {'A': 5, 'B': 4, 'C': 1})\n",
      "Counter({5: 3, 6: 2, 1: 1, 2: 1, 3: 1, 4: 1})\n",
      "[(5, 3), (6, 2)]\n"
     ]
    }
   ],
   "source": [
    "import collections\n",
    "\n",
    "# defaultdict\n",
    "a = collections.defaultdict(int)\n",
    "a['A'] = 5\n",
    "a['B'] = 4\n",
    "print(a)\n",
    "\n",
    "a['C'] += 1\n",
    "print(a)\n",
    "\n",
    "# Counter\n",
    "a = [1,2,3,4,5,5,5,6,6]\n",
    "b = collections.Counter(a)\n",
    "print(b)\n",
    "print(b.most_common(2))"
   ]
  }
 ],
 "metadata": {
  "kernelspec": {
   "display_name": "Python 3",
   "language": "python",
   "name": "python3"
  },
  "language_info": {
   "codemirror_mode": {
    "name": "ipython",
    "version": 3
   },
   "file_extension": ".py",
   "mimetype": "text/x-python",
   "name": "python",
   "nbconvert_exporter": "python",
   "pygments_lexer": "ipython3",
   "version": "3.7.7"
  }
 },
 "nbformat": 4,
 "nbformat_minor": 4
}
