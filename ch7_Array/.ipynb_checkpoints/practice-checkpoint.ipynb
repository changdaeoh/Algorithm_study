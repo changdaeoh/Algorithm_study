{
 "cells": [
  {
   "cell_type": "markdown",
   "metadata": {},
   "source": [
    "# 1. Two Sum"
   ]
  },
  {
   "cell_type": "code",
   "execution_count": 27,
   "metadata": {},
   "outputs": [],
   "source": [
    "# input\n",
    "nums = [2, 7, 11, 15]\n",
    "target = 9"
   ]
  },
  {
   "cell_type": "code",
   "execution_count": 35,
   "metadata": {},
   "outputs": [],
   "source": [
    "nums = [3, 3]\n",
    "target = 6"
   ]
  },
  {
   "cell_type": "code",
   "execution_count": 33,
   "metadata": {},
   "outputs": [
    {
     "data": {
      "text/plain": [
       "[0, 1]"
      ]
     },
     "execution_count": 33,
     "metadata": {},
     "output_type": "execute_result"
    }
   ],
   "source": [
    "# sol 1. Brute-Force\n",
    "def twosum(nums:list, target:int) -> list:\n",
    "    for i in range(len(nums)-1):\n",
    "        for j in range(i+1,len(nums)):\n",
    "            if nums[i] + nums[j] == target:\n",
    "                return [i, j]\n",
    "            \n",
    "twosum(nums, target)"
   ]
  },
  {
   "cell_type": "code",
   "execution_count": 29,
   "metadata": {},
   "outputs": [
    {
     "data": {
      "text/plain": [
       "[0, 1]"
      ]
     },
     "execution_count": 29,
     "metadata": {},
     "output_type": "execute_result"
    }
   ],
   "source": [
    "# sol 2. search with in\n",
    "def twosum(nums:list, target:int) -> list:\n",
    "    for i, n in enumerate(nums):\n",
    "        complement = target - n\n",
    "        \n",
    "        if complement in nums[i + 1:]:\n",
    "            return [i, nums[i+1:].index(complement) + (i+1)] # 그냥 num.index하면 중복 원소채택가능\n",
    "        \n",
    "twosum(nums, target)"
   ]
  },
  {
   "cell_type": "code",
   "execution_count": 31,
   "metadata": {},
   "outputs": [
    {
     "data": {
      "text/plain": [
       "[0, 1]"
      ]
     },
     "execution_count": 31,
     "metadata": {},
     "output_type": "execute_result"
    }
   ],
   "source": [
    "# sol 3. key inquire\n",
    "def twosum(nums:list, target:int) -> list:\n",
    "    nums_map = {}\n",
    "    # 값을 key로 인덱스를 value로\n",
    "    for i, num in enumerate(nums):\n",
    "        nums_map[num] = i\n",
    "    # dictionary의 key조회\n",
    "    for i, num in enumerate(nums):\n",
    "        if target - num in nums_map and i != nums_map[target - num]:\n",
    "            return [nums.index(num), nums_map[target - num]]\n",
    "    \n",
    "twosum(nums, target)"
   ]
  },
  {
   "cell_type": "code",
   "execution_count": 32,
   "metadata": {},
   "outputs": [
    {
     "data": {
      "text/plain": [
       "[0, 1]"
      ]
     },
     "execution_count": 32,
     "metadata": {},
     "output_type": "execute_result"
    }
   ],
   "source": [
    "# sol 4. key inquire improve\n",
    "def twosum(nums:list, target:int) -> list:\n",
    "    nums_map = {}\n",
    "    for i, num in enumerate(nums):\n",
    "        if target - num in nums_map:\n",
    "            return [nums_map[target - num], i]\n",
    "        nums_map[num] = i\n",
    "    \n",
    "twosum(nums, target)"
   ]
  },
  {
   "cell_type": "code",
   "execution_count": 37,
   "metadata": {},
   "outputs": [],
   "source": [
    "# sol 5. two pointer - 입력 리스트가 정렬된 상태이면 사용가능\n",
    "def twoSum(nums: list, target: int) -> list:\n",
    "    left, right = 0, len(nums) - 1\n",
    "    while not left == right:\n",
    "        # 합이 타겟보다 크면 오른쪽 포인터를 왼쪽으로\n",
    "        if nums[left] + nums[right] < target:\n",
    "            left += 1\n",
    "        # 합이 타겟보다 작으면 왼쪽 포인터를 오른쪽으로\n",
    "        elif nums[left] + nums[right] > target:\n",
    "            right -= 1\n",
    "        else:\n",
    "            return [left, right]"
   ]
  },
  {
   "cell_type": "markdown",
   "metadata": {},
   "source": [
    "# 2. Trapping Rain Water"
   ]
  },
  {
   "cell_type": "markdown",
   "metadata": {},
   "source": [
    "<img src = \"https://github.com/changdaeoh/Algorithm_study/blob/main/images/7_rain_trap_img_2.png?raw=true\">"
   ]
  },
  {
   "cell_type": "code",
   "execution_count": 41,
   "metadata": {},
   "outputs": [],
   "source": [
    "# input\n",
    "heights = [0,1,0,2,1,0,1,3,2,1,2,1]\n",
    "water = 6"
   ]
  },
  {
   "cell_type": "code",
   "execution_count": 48,
   "metadata": {},
   "outputs": [],
   "source": [
    "# sol 1. global maximum으로 수렴하는 두 포인터 활용 활용\n",
    "def trap(height:list) -> int:\n",
    "    if not height:\n",
    "        return 0\n",
    "\n",
    "    volume = 0\n",
    "    left, right = 0, len(height) - 1\n",
    "    left_max, right_max = height[left], height[right]\n",
    "\n",
    "    while left < right:\n",
    "        # 매번 포인터 이동 후 max값 갱신\n",
    "        left_max, right_max = max(height[left], left_max), max(height[right], right_max)\n",
    "        # 좌 우 max값 비교 후 포인터 이동 \n",
    "        if left_max <= right_max:\n",
    "            volume += left_max - height[left]\n",
    "            left += 1\n",
    "        else:\n",
    "            volume += right_max - height[right]\n",
    "            right -= 1\n",
    "    return volume"
   ]
  },
  {
   "cell_type": "code",
   "execution_count": 49,
   "metadata": {},
   "outputs": [
    {
     "data": {
      "text/plain": [
       "6"
      ]
     },
     "execution_count": 49,
     "metadata": {},
     "output_type": "execute_result"
    }
   ],
   "source": [
    "trap(heights)"
   ]
  },
  {
   "cell_type": "markdown",
   "metadata": {},
   "source": [
    "작은쪽 pt를 큰쪽 pt로 이동시키며 '각 side의 현재값과 최댓값의 차이'를 결과에 누적"
   ]
  },
  {
   "cell_type": "code",
   "execution_count": null,
   "metadata": {},
   "outputs": [],
   "source": [
    "# sol 2. 스택 쌓기\n",
    "def trap(height:list) -> int:\n",
    "    stack = []\n",
    "    volumne = 0\n",
    "    \n",
    "    for i in range(len(height)):\n",
    "        # stack에 원소가 있고, stack의 가장 최근 원소보다 현재값의 높이가 더 큰경우높이가 더 큰경우\n",
    "        while stack and height[i] > height[stack[-1]]:\n",
    "            top = stack.pop()\n",
    "            if len(stack) == 0:\n",
    "                break\n",
    "            \n",
    "            distance = i - stack[-1] -1                               # 가로\n",
    "            waters = min(height[i], height[stack[-1]]) - height[top]  # 세로\n",
    "            volume += distance * waters\n",
    "        \n",
    "        stack.append(i)                                               # 현재 idx는 항상 쌓임\n",
    "    return volumn\n",
    "            "
   ]
  },
  {
   "cell_type": "markdown",
   "metadata": {},
   "source": [
    "# 3. 3SUM"
   ]
  },
  {
   "cell_type": "code",
   "execution_count": 103,
   "metadata": {},
   "outputs": [],
   "source": [
    "nums = [-1,0,1,2,-1,-4,-2,-3,3,0,4]"
   ]
  },
  {
   "cell_type": "code",
   "execution_count": 87,
   "metadata": {},
   "outputs": [],
   "source": [
    "# 여러개 찾으면 여러개 다 반환하도록 개선\n",
    "def twosum(nums:list, target:int) -> list:\n",
    "    res = []\n",
    "    for i, n in enumerate(nums):\n",
    "        complement = target - n\n",
    "        \n",
    "        if complement in nums[i + 1:]:\n",
    "            res.append([n, complement])\n",
    "    return res"
   ]
  },
  {
   "cell_type": "code",
   "execution_count": 104,
   "metadata": {},
   "outputs": [
    {
     "data": {
      "text/plain": [
       "[[-1, 0, 1],\n",
       " [-1, -1, 2],\n",
       " [-2, -1, 3],\n",
       " [-3, -1, 4],\n",
       " [-2, 0, 2],\n",
       " [-4, 0, 4],\n",
       " [-3, 0, 3],\n",
       " [-3, 1, 2],\n",
       " [-4, 1, 3]]"
      ]
     },
     "execution_count": 104,
     "metadata": {},
     "output_type": "execute_result"
    }
   ],
   "source": [
    "import copy\n",
    "\n",
    "# 시간초과로 작동안되는 솔루션\n",
    "def threesum(nums:list) -> list:\n",
    "    res = []\n",
    "    for i in range(len(nums)):\n",
    "        nums_copy = copy.deepcopy(nums)\n",
    "        del nums_copy[i]\n",
    "        \n",
    "        if len(twosum(nums_copy, -nums[i])):\n",
    "            matches = [[nums[i]] + x for x in twosum(nums_copy, -nums[i])]\n",
    "            for x in matches:\n",
    "                if sorted(x) not in res:\n",
    "                    res.append(sorted(x))\n",
    "    return res\n",
    "\n",
    "threesum(nums)"
   ]
  },
  {
   "cell_type": "code",
   "execution_count": 108,
   "metadata": {},
   "outputs": [
    {
     "data": {
      "text/plain": [
       "[[-4, 0, 4],\n",
       " [-4, 1, 3],\n",
       " [-3, -1, 4],\n",
       " [-3, 0, 3],\n",
       " [-3, 1, 2],\n",
       " [-2, -1, 3],\n",
       " [-2, 0, 2],\n",
       " [-1, -1, 2],\n",
       " [-1, 0, 1]]"
      ]
     },
     "execution_count": 108,
     "metadata": {},
     "output_type": "execute_result"
    }
   ],
   "source": [
    "# 브루트 포스 - 시간초과\n",
    "def thrsum(nums:list) -> list:\n",
    "    results = []\n",
    "    nums.sort()\n",
    "    \n",
    "    for i in range(len(nums) - 2):\n",
    "        if i > 0 and nums[i] == nums[i - 1]:   # 중복 제거\n",
    "            continue\n",
    "        for j in range(i + 1, len(nums) - 1):\n",
    "            if j > i + 1 and nums[j] == nums[j - 1]:\n",
    "                continue\n",
    "            for k in range(j + 1, len(nums)):\n",
    "                if k > j + 1 and nums[k] == nums[k - 1]:\n",
    "                    continue\n",
    "                if nums[i] + nums[j] + nums[k] == 0:\n",
    "                    results.append([nums[i], nums[j], nums[k]])\n",
    "        \n",
    "    return results\n",
    "\n",
    "thrsum(nums)"
   ]
  },
  {
   "cell_type": "markdown",
   "metadata": {},
   "source": [
    "### 투 포인터로 합 계산\n",
    "<img src = \"https://github.com/changdaeoh/Algorithm_study/blob/main/images/7_3sum_2pointers.png?raw=true\">"
   ]
  },
  {
   "cell_type": "code",
   "execution_count": 113,
   "metadata": {},
   "outputs": [],
   "source": [
    "from typing import List\n",
    "# 두 개의 포인터\n",
    "def threeSum(nums:List[int]) -> List[List[int]]:\n",
    "    results = []\n",
    "    nums.sort()\n",
    "    \n",
    "    for i in range(len(nums) - 2):\n",
    "        # 중복값 건너뛰기\n",
    "        if i > 0 and nums[i] == nums[i - 1]:\n",
    "            continue\n",
    "        \n",
    "        # i를 제외한 나머지 수열에서 간격 좁히며 sum 계산\n",
    "        left, right = i + 1, len(nums) - 1\n",
    "        while left < right:\n",
    "            sum = nums[i] + nums[left] + nums[right]\n",
    "            if sum < 0 :\n",
    "                left += 1\n",
    "            elif sum > 0 :\n",
    "                right -= 1\n",
    "            else:\n",
    "                # 정답 처리\n",
    "                results.append([nums[i], nums[left], nums[right]])\n",
    "                \n",
    "                # 중복 쭉 건너뛰기\n",
    "                while left < right and nums[left] == nums[left + 1]:\n",
    "                    left += 1\n",
    "                while left < right and nums[right] == nums[right - 1]:\n",
    "                    left += 1\n",
    "                left += 1\n",
    "                right -= 1\n",
    "    return results"
   ]
  },
  {
   "cell_type": "code",
   "execution_count": 114,
   "metadata": {},
   "outputs": [
    {
     "data": {
      "text/plain": [
       "[[-4, 0, 4],\n",
       " [-4, 1, 3],\n",
       " [-3, -1, 4],\n",
       " [-3, 0, 3],\n",
       " [-3, 1, 2],\n",
       " [-2, -1, 3],\n",
       " [-2, 0, 2],\n",
       " [-1, -1, 2],\n",
       " [-1, 0, 1]]"
      ]
     },
     "execution_count": 114,
     "metadata": {},
     "output_type": "execute_result"
    }
   ],
   "source": [
    "threeSum(nums)"
   ]
  },
  {
   "cell_type": "markdown",
   "metadata": {},
   "source": [
    "# 4. array partition 1\n",
    "속도 - 슬라이싱 < 컴프리핸션 < 그냥포문"
   ]
  },
  {
   "cell_type": "code",
   "execution_count": 1,
   "metadata": {},
   "outputs": [],
   "source": [
    "nums = [1,4,3,2]\n",
    "output = 4\n",
    "\n",
    "nums2 = [6, 2, 6, 5, 1, 2]\n",
    "output2 = 9"
   ]
  },
  {
   "cell_type": "code",
   "execution_count": 19,
   "metadata": {},
   "outputs": [],
   "source": [
    "def array_partition_1(nums:list) -> int:\n",
    "    return sum(n for i, n in enumerate(sorted(nums)) if (i+1)%2 != 0)"
   ]
  },
  {
   "cell_type": "code",
   "execution_count": 21,
   "metadata": {},
   "outputs": [],
   "source": [
    "# 교재 솔루션 \n",
    "def array_partition_1(nums:list) -> int:\n",
    "    return sum(sorted(nums)[::2])"
   ]
  },
  {
   "cell_type": "code",
   "execution_count": 22,
   "metadata": {},
   "outputs": [
    {
     "data": {
      "text/plain": [
       "9"
      ]
     },
     "execution_count": 22,
     "metadata": {},
     "output_type": "execute_result"
    }
   ],
   "source": [
    "array_partition_1(nums2)"
   ]
  },
  {
   "cell_type": "markdown",
   "metadata": {},
   "source": [
    "# 5. product of array except self\n",
    "<img src = \"https://github.com/changdaeoh/Algorithm_study/blob/main/images/7_prod_of_array_except.png?raw=true\">"
   ]
  },
  {
   "cell_type": "code",
   "execution_count": 32,
   "metadata": {},
   "outputs": [],
   "source": [
    "nums = [-1, 1, 0, -3, 3]\n",
    "output = [0, 0, 9, 0, 0]\n",
    "\n",
    "nums2 = [1, 2, 3, 4]\n",
    "output2 = [24, 12, 8, 6]"
   ]
  },
  {
   "cell_type": "code",
   "execution_count": 30,
   "metadata": {},
   "outputs": [],
   "source": [
    "from functools import reduce\n",
    "\n",
    "# 시간초과 풀이\n",
    "def product_except_self(nums:list) -> list:\n",
    "    res = []\n",
    "    for i in range(len(nums)):\n",
    "        nums_excep = [val for j,val in enumerate(nums) if j!=i]\n",
    "        res.append(reduce(lambda x, y : x * y, nums_excep))\n",
    "    return res"
   ]
  },
  {
   "cell_type": "code",
   "execution_count": 33,
   "metadata": {},
   "outputs": [
    {
     "name": "stdout",
     "output_type": "stream",
     "text": [
      "[0, 0, 9, 0, 0]\n",
      "[24, 12, 8, 6]\n"
     ]
    }
   ],
   "source": [
    "print(product_except_self(nums))\n",
    "print(product_except_self(nums2))"
   ]
  },
  {
   "cell_type": "code",
   "execution_count": null,
   "metadata": {},
   "outputs": [],
   "source": [
    "# 자신 제외 왼쪽 곱셈 결과와 자신 제외 오른쪽 곱셈 결과를 따로 구해 \n",
    "# 각 인덱스 별로 곱하기 (끝 값인 경우 1로 치기)\n",
    "\n",
    "def productExceptSelf(nums:list) -> list:\n",
    "    out = []\n",
    "    # 왼쪽 곰셈\n",
    "    left_p = 1\n",
    "    for i in range(0, len(nums)):\n",
    "        out.append(left_p)\n",
    "        left_p = left_p * nums[i]\n",
    "    # 오른쪽 곱셈진행하면서 왼쪽 곰셈 결과들 차례로 곱하기\n",
    "    right_p = 1\n",
    "    for i in range(len(nums)-1, -1, -1):\n",
    "        out[i] = out[i] * right_p\n",
    "        right_p = right_p * nums[i]\n",
    "    return out"
   ]
  }
 ],
 "metadata": {
  "kernelspec": {
   "display_name": "Python 3",
   "language": "python",
   "name": "python3"
  },
  "language_info": {
   "codemirror_mode": {
    "name": "ipython",
    "version": 3
   },
   "file_extension": ".py",
   "mimetype": "text/x-python",
   "name": "python",
   "nbconvert_exporter": "python",
   "pygments_lexer": "ipython3",
   "version": "3.7.6"
  }
 },
 "nbformat": 4,
 "nbformat_minor": 4
}
