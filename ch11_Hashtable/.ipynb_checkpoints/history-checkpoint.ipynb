{
 "cells": [
  {
   "cell_type": "markdown",
   "metadata": {},
   "source": [
    "# Hash Table\n",
    "<img src = \"https://github.com/changdaeoh/Algorithm_study/blob/main/images/11_hashtable.jpg?raw=true\" width = \"85%\" height = \"85%\">\n",
    "\n",
    "> 충돌 발생 시 대처\n",
    "* 개별 체이닝\n",
    "<img src = \"https://github.com/changdaeoh/Algorithm_study/blob/main/images/11_6.jpg?raw=true\" width = \"65%\" height = \"65%\">\n",
    "* 오픈 어드레싱\n",
    "<img src = \"https://github.com/changdaeoh/Algorithm_study/blob/main/images/11_7.jpg?raw=true\" width = \"60%\" height = \"60%\">"
   ]
  },
  {
   "cell_type": "markdown",
   "metadata": {},
   "source": [
    "## q28 해시맵 디자인\n",
    "https://leetcode.com/problems/design-hashmap/submissions/"
   ]
  },
  {
   "cell_type": "code",
   "execution_count": 9,
   "metadata": {},
   "outputs": [],
   "source": [
    "# sol1. 파이썬 이중리스트를 이용한 구현\n",
    "class MyHashMap:\n",
    "    def __init__(self):\n",
    "        self.hash_table = []\n",
    "        self.keys = []\n",
    "\n",
    "    def put(self, key: int, value: int) -> None:\n",
    "        if key not in self.keys:                   # 추가\n",
    "            self.keys.append(key)\n",
    "            self.hash_table.append([key, value])\n",
    "        else:                                      # 갱신 \n",
    "            idx = self.keys.index(key)\n",
    "            self.hash_table[idx][1] = value\n",
    "\n",
    "    def get(self, key: int) -> int:\n",
    "        if key in self.keys:                   \n",
    "            return self.hash_table[self.keys.index(key)][1]\n",
    "        else:\n",
    "            return -1\n",
    "\n",
    "    def remove(self, key: int) -> None:\n",
    "        if key in self.keys:                   \n",
    "            self.hash_table.pop(self.keys.index(key))\n",
    "            self.keys.remove(key)"
   ]
  },
  {
   "cell_type": "code",
   "execution_count": 13,
   "metadata": {
    "scrolled": true
   },
   "outputs": [
    {
     "name": "stdout",
     "output_type": "stream",
     "text": [
      "[[1, 1], [2, 2]]\n",
      "1\n",
      "-1\n",
      "[[1, 1], [2, 1]]\n",
      "1\n",
      "[[1, 1]]\n",
      "-1\n"
     ]
    }
   ],
   "source": [
    "hm = MyHashMap()\n",
    "hm.put(1,1)\n",
    "hm.put(2,2)\n",
    "print(hm.hash_table)\n",
    "print(hm.get(1))\n",
    "print(hm.get(3))\n",
    "hm.put(2,1)\n",
    "print(hm.hash_table)\n",
    "print(hm.get(2))\n",
    "hm.remove(2)\n",
    "print(hm.hash_table)\n",
    "print(hm.get(2))"
   ]
  },
  {
   "cell_type": "code",
   "execution_count": null,
   "metadata": {},
   "outputs": [],
   "source": [
    "# sol2. 연결리스트를 이용한 구현\n",
    "class ListNode:\n",
    "    def __init__(self, key = None, value = None, next = None):\n",
    "        self.key = key\n",
    "        self.value = value\n",
    "        self.next = None\n",
    "\n",
    "import collections\n",
    "class MyHashMap:\n",
    "    def __init__(self):\n",
    "        self.size = 1000\n",
    "        self.table = collections.defaultdict(ListNode)\n",
    "    \n",
    "    # 삽입\n",
    "    def put(self, key: int, value: int) -> None:\n",
    "        index = key % self.size # hashing\n",
    "        # 테이블에 없는 새로운 해쉬라면 해당 해쉬에 대응되는 노드 추가\n",
    "        if self.table[index].value is None:\n",
    "            self.table[index] = ListNode(key, value)\n",
    "            return \n",
    "        # 이미 값이할당된 해쉬라면 연결리스트 잇기\n",
    "        p = self.table[index] # 존재하던 노드 p에 저장\n",
    "        while p:\n",
    "            if p.key == key: # 이미 값이할당된 해쉬의 노드들 중 \"key가 이미있는 key라면\"\n",
    "                p.value = value # value 업데이트 진행\n",
    "                return # 종료\n",
    "            if p.next is None:\n",
    "                break\n",
    "            p = p.next # 노드 포인터 전진\n",
    "        # 이미 할당된 해쉬인데, 해당공간에 호출된 key는 없을 경우 새로 연결\n",
    "        p.next = ListNode(key, value)\n",
    "            \n",
    "    # 조회\n",
    "    def get(self, key: int) -> int:\n",
    "        index = key % self.size\n",
    "        if self.table[index].value is None: # 존재하지 않는 키->해쉬\n",
    "            return -1\n",
    "        \n",
    "        # 존재하는 해쉬일 경우 연결되어있는 모든 키 탐색\n",
    "        p = self.table[index]\n",
    "        while p:\n",
    "            if p.key == key:\n",
    "                return p.value\n",
    "            p = p.next\n",
    "        return -1\n",
    "    \n",
    "    # 삭제\n",
    "    def remove(self, key:int) -> None:\n",
    "        index = key % self.size\n",
    "        # 존재하지 않는 해쉬일때의 처리\n",
    "        if self.table[index].value is None:\n",
    "            return\n",
    "        \n",
    "        # 존재하는 해쉬일때의 처리\n",
    "        p = self.table[index]\n",
    "        # 일치하는 key 탐색\n",
    "        if p.key == key: # 바로 일치할 경우 - 유일노드인지 아닌지에 따라 다른처리\n",
    "            self.table[index] = ListNode() if p.next is None else p.next\n",
    "            return\n",
    "        \n",
    "        prev = p\n",
    "        while p:\n",
    "            if p.key == key:\n",
    "                prev.next = p.next\n",
    "                return\n",
    "            prev, p = p, p.next # prev, current 노드 포인터 동시에 전진"
   ]
  },
  {
   "cell_type": "markdown",
   "metadata": {},
   "source": [
    "<img src = \"https://github.com/changdaeoh/Algorithm_study/blob/main/images/11_chaining.jpg?raw=true\" width = \"75%\" height = \"75%\">"
   ]
  },
  {
   "cell_type": "markdown",
   "metadata": {},
   "source": [
    "## q29 보석과 돌\n",
    "https://leetcode.com/problems/jewels-and-stones/submissions/"
   ]
  },
  {
   "cell_type": "code",
   "execution_count": null,
   "metadata": {},
   "outputs": [],
   "source": [
    "# sol1. Counter 이용한 풀이\n",
    "import collections\n",
    "def jewels_cnt(J:str, S:str) -> int:\n",
    "\n",
    "    cnt = collections.Counter(S)\n",
    "    return sum(cnt[j] for j in J)"
   ]
  },
  {
   "cell_type": "code",
   "execution_count": null,
   "metadata": {},
   "outputs": [],
   "source": [
    "# sol2.1 파이썬 리스트 이용 풀이 1\n",
    "def jewels_cnt(jewels:str, stones:str) -> int:\n",
    "    return len([ s for s in stones if s in jewels ])\n",
    "\n",
    "# sol2.2 파이썬 리스트 이용 풀이 2\n",
    "def jewels_cnt(jewels:str, stones:str) -> int:\n",
    "    return sum(s in jewels for s in stones)"
   ]
  },
  {
   "cell_type": "code",
   "execution_count": 39,
   "metadata": {},
   "outputs": [],
   "source": [
    "# sol3. 해쉬테이블 이용\n",
    "import collections\n",
    "\n",
    "def jewels_cnt(J:str, S:str) -> int:\n",
    "    freqs = collections.defaultdict(int)\n",
    "    count = 0\n",
    "    \n",
    "    # 돌에 포함된 원석별 빈도수 계산\n",
    "    for char in S:\n",
    "        freqs[char] += 1\n",
    "    \n",
    "    # 돌에 박힌 보석들 개수 카운팅\n",
    "    for char in J:\n",
    "        if char in freqs:\n",
    "            count += freqs[char]\n",
    "    \n",
    "    return count"
   ]
  },
  {
   "cell_type": "markdown",
   "metadata": {},
   "source": [
    "## q30 중복없는 가장 긴 부분문자열\n",
    "https://leetcode.com/problems/longest-substring-without-repeating-characters/"
   ]
  },
  {
   "cell_type": "code",
   "execution_count": null,
   "metadata": {},
   "outputs": [],
   "source": [
    "# sol1. two pointers with implicit sliding window\n",
    "def lengthOfLongestSubstring(self, s: str) -> int:\n",
    "    used = {}                                    \n",
    "    max_length = start = 0                       # 최대길이, 인덱스 포인터\n",
    "    for index, char in enumerate(s):\n",
    "        if char in used and start <= used[char]: # 윈도우 내 본적있는 문자라면\n",
    "            start = used[char] + 1               # 인덱스 포인터 갱신\n",
    "        else:                                    # 윈도우 내 본적없는 문자라면\n",
    "            max_length = max(max_length, index - start + 1)\n",
    "        \n",
    "        # key : 문자, value : 현재 인덱스로 갖는 dictionary\n",
    "        used[char] = index                       \n",
    "    \n",
    "    return max_length"
   ]
  },
  {
   "cell_type": "code",
   "execution_count": null,
   "metadata": {},
   "outputs": [],
   "source": [
    "# sol2. one pointer with explicit sliding window\n",
    "def lengthOfLongestSubstring(self, s: str) -> int:\n",
    "    max_length = left_p = 0\n",
    "    window = set()\n",
    "    for i in range(len(s)):\n",
    "            # remove all chars from window until curr (s[r])\n",
    "            while s[i] in window:\n",
    "                window.remove(s[left_p])\n",
    "                left_p += 1\n",
    "            # add curr char (s[r]) and update maxLen if needed\n",
    "            window.add(s[i])\n",
    "            max_length=max(max_length,len(window))\n",
    "        \n",
    "    return max_length"
   ]
  }
 ],
 "metadata": {
  "kernelspec": {
   "display_name": "Python 3",
   "language": "python",
   "name": "python3"
  },
  "language_info": {
   "codemirror_mode": {
    "name": "ipython",
    "version": 3
   },
   "file_extension": ".py",
   "mimetype": "text/x-python",
   "name": "python",
   "nbconvert_exporter": "python",
   "pygments_lexer": "ipython3",
   "version": "3.7.6"
  }
 },
 "nbformat": 4,
 "nbformat_minor": 4
}
