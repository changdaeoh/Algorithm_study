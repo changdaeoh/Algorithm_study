{
 "cells": [
  {
   "cell_type": "markdown",
   "metadata": {},
   "source": [
    "# q13 _ Palindrome Linked List"
   ]
  },
  {
   "cell_type": "code",
   "execution_count": 3,
   "metadata": {},
   "outputs": [],
   "source": [
    "head = [1,2,2,1]\n",
    "Output = True"
   ]
  },
  {
   "cell_type": "code",
   "execution_count": 7,
   "metadata": {},
   "outputs": [],
   "source": [
    "class ListNode:\n",
    "    def __init__(self, val=0, next=None):\n",
    "        self.val = val\n",
    "        self.next = next"
   ]
  },
  {
   "cell_type": "code",
   "execution_count": 9,
   "metadata": {},
   "outputs": [],
   "source": [
    "def palindrome_LL(head:ListNode) -> bool:\n",
    "    q : list = []\n",
    "        \n",
    "    if not head:\n",
    "        return True\n",
    "    \n",
    "    node = head\n",
    "    # 연결리스트를 파이썬 리스트로 변환\n",
    "    while node is not None:\n",
    "        q.append(node.val)\n",
    "        node = node.next\n",
    "    # 팰린드롬 판별\n",
    "    return q == q[::-1]"
   ]
  },
  {
   "cell_type": "code",
   "execution_count": null,
   "metadata": {},
   "outputs": [],
   "source": [
    "def isPalindrome(head:ListNode) -> bool:\n",
    "    rev = None\n",
    "    slow = fast = head\n",
    "    \n",
    "    # 전체 LL 중 중간위치까지 slow head를 전진시킴. \n",
    "    # 그 과정에서 왔던길을 역순 참조하는 rev LL이 만들어짐\n",
    "    while fast and fast.next:\n",
    "        fast = fast.next.next\n",
    "        # rev에는 slow head의 값이 할당되고 rev.next 포인터에는 현 단계의 rev 주소가 할당됨\n",
    "        # slow head값은 다음 포인터가 가리키는 주소(slow.next)의 값으로 갱신\n",
    "        # -- 괄호 좌측에 있냐 우측에 있냐에 따라 다름 그리고 다중할당이라 순차적으로가 아니라 동시에 할당됨--\n",
    "        # rev.next는 포인터 변수를 의미하고 slow.next는 포인팅주소에 있는 값을 의미함, \n",
    "        # 우측의 rev은 rev변수의 주소 (변수 명 = 변수주소 (C언어마냥))\n",
    "        rev, rev.next, slow = slow, rev, slow.next\n",
    "    \n",
    "    # 전체 값이 홀수인 경우 좌우 매칭판별을 위해 slow 1보 전진\n",
    "    if fast:\n",
    "        slow = slow.next\n",
    "    \n",
    "    # 팰린드롬 판별\n",
    "    while rev and rev.val == slow.val:\n",
    "        slow, rev = slow.next, rev.next\n",
    "        \n",
    "    # 루프 중간에 멈추면 rev가 가리키는 head에 값이 존재할 것이고 \n",
    "    # 중간에 안멈추고 끝까지 가면 값이 None이 될 것이기 때문\n",
    "    return not rev "
   ]
  },
  {
   "cell_type": "code",
   "execution_count": null,
   "metadata": {},
   "outputs": [],
   "source": [
    "import collections\n",
    "\n",
    "def palindrome_LL(head:ListNode) -> bool:\n",
    "    # 덱 자료형으로 최적화\n",
    "    q : Deque = collections.deque()\n",
    "        \n",
    "    if not head:\n",
    "        return True\n",
    "    \n",
    "    node = head\n",
    "    # 연결리스트를 파이썬 리스트로 변환\n",
    "    while node is not None:\n",
    "        q.append(node.val)\n",
    "        node = node.next\n",
    "    \n",
    "    while len(q) > 1:\n",
    "        if q.popleft() != q.pop():\n",
    "            return False\n",
    "        \n",
    "    return True"
   ]
  }
 ],
 "metadata": {
  "kernelspec": {
   "display_name": "Python 3",
   "language": "python",
   "name": "python3"
  },
  "language_info": {
   "codemirror_mode": {
    "name": "ipython",
    "version": 3
   },
   "file_extension": ".py",
   "mimetype": "text/x-python",
   "name": "python",
   "nbconvert_exporter": "python",
   "pygments_lexer": "ipython3",
   "version": "3.7.6"
  }
 },
 "nbformat": 4,
 "nbformat_minor": 4
}
