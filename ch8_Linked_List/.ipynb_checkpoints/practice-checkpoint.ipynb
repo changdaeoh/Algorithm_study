{
 "cells": [
  {
   "cell_type": "code",
   "execution_count": null,
   "metadata": {},
   "outputs": [],
   "source": [
    "# 연결리스트의 노드 클래스\n",
    "class ListNode:\n",
    "    def __init__(self, val=0, next=None):\n",
    "        self.val = val\n",
    "        self.next = next"
   ]
  },
  {
   "cell_type": "markdown",
   "metadata": {},
   "source": [
    "* 속성1 : 해당 노드의 value값 변수 val\n",
    "* 속성2 : 다음 노드의 주소를 저장할 포인터 변수 next"
   ]
  },
  {
   "cell_type": "markdown",
   "metadata": {},
   "source": [
    "# q13 _ Palindrome Linked List"
   ]
  },
  {
   "cell_type": "code",
   "execution_count": 3,
   "metadata": {},
   "outputs": [],
   "source": [
    "head = [1,2,2,1]\n",
    "Output = True"
   ]
  },
  {
   "cell_type": "code",
   "execution_count": 9,
   "metadata": {},
   "outputs": [],
   "source": [
    "def palindrome_LL(head:ListNode) -> bool:\n",
    "    q : list = []\n",
    "        \n",
    "    if not head:\n",
    "        return True\n",
    "    \n",
    "    node = head\n",
    "    # 연결리스트를 파이썬 리스트로 변환\n",
    "    while node is not None:\n",
    "        q.append(node.val)\n",
    "        node = node.next\n",
    "    # 팰린드롬 판별\n",
    "    return q == q[::-1]"
   ]
  },
  {
   "cell_type": "code",
   "execution_count": null,
   "metadata": {},
   "outputs": [],
   "source": [
    "def isPalindrome(head:ListNode) -> bool:\n",
    "    rev = None\n",
    "    slow = fast = head\n",
    "    \n",
    "    # 전체 LL 중 중간위치까지 slow head를 전진시킴. \n",
    "    # 그 과정에서 왔던길을 역순 참조하는 rev LL이 만들어짐\n",
    "    while fast and fast.next:\n",
    "        fast = fast.next.next\n",
    "        # rev에는 slow head의 값이 할당되고 rev.next 포인터에는 현 단계의 rev 주소가 할당됨\n",
    "        # slow head값은 다음 포인터가 가리키는 주소(slow.next)의 값으로 갱신\n",
    "        # -- 괄호 좌측에 있냐 우측에 있냐에 따라 다름 그리고 다중할당이라 순차적으로가 아니라 동시에 할당됨--\n",
    "        # rev.next는 포인터 변수를 의미하고 slow.next는 포인팅주소에 있는 값을 의미함, \n",
    "        # 우측의 rev은 rev변수의 주소 (변수 명 = 변수주소 (C언어마냥))\n",
    "        rev, rev.next, slow = slow, rev, slow.next\n",
    "    \n",
    "    # 전체 값이 홀수인 경우 좌우 매칭판별을 위해 slow 1보 전진\n",
    "    if fast:\n",
    "        slow = slow.next\n",
    "    \n",
    "    # 팰린드롬 판별\n",
    "    while rev and rev.val == slow.val:\n",
    "        slow, rev = slow.next, rev.next\n",
    "        \n",
    "    # 루프 중간에 멈추면 rev가 가리키는 head에 값이 존재할 것이고 \n",
    "    # 중간에 안멈추고 끝까지 가면 값이 None이 될 것이기 때문\n",
    "    return not rev "
   ]
  },
  {
   "cell_type": "code",
   "execution_count": null,
   "metadata": {},
   "outputs": [],
   "source": [
    "import collections\n",
    "\n",
    "def palindrome_LL(head:ListNode) -> bool:\n",
    "    # 덱 자료형으로 최적화\n",
    "    q : Deque = collections.deque()\n",
    "        \n",
    "    if not head:\n",
    "        return True\n",
    "    \n",
    "    node = head\n",
    "    # 연결리스트를 파이썬 리스트로 변환\n",
    "    while node is not None:\n",
    "        q.append(node.val)\n",
    "        node = node.next\n",
    "    \n",
    "    while len(q) > 1:\n",
    "        if q.popleft() != q.pop():\n",
    "            return False\n",
    "        \n",
    "    return True"
   ]
  },
  {
   "cell_type": "markdown",
   "metadata": {},
   "source": [
    "# q14 _ Merge Two Sorted Lists"
   ]
  },
  {
   "cell_type": "code",
   "execution_count": 2,
   "metadata": {},
   "outputs": [],
   "source": [
    "# sol1. recursive\n",
    "def merge_LL(l1:ListNode, l2:ListNode) -> ListNode:\n",
    "    if (not l1) or (l2 and l1.val > l2.val):\n",
    "        l1, l2 = l2, l1\n",
    "    if l1 :\n",
    "        l1.next = self.merge_LL(l1.next, l2)\n",
    "    \n",
    "    return l1"
   ]
  },
  {
   "cell_type": "code",
   "execution_count": null,
   "metadata": {},
   "outputs": [],
   "source": [
    "# Definition of recursive solution.\n",
    "class Solution:\n",
    "    def mergeTwoLists(self, l1: ListNode, l2: ListNode) -> ListNode:\n",
    "        # If we have not reached the end of either of the two linked lists        \n",
    "        if l1 and l2:\n",
    "            # If the value of the current node in l1 is larger than the current node in l2\n",
    "            if l1.val > l2.val:\n",
    "                # Switch the references to make sure l1 is the list with the node that has the smaller value                \n",
    "                l1, l2 = l2, l1\n",
    "            # Set pointer of the node with the smaller value to be the next node with the next smallest value\n",
    "            l1.next = self.mergeTwoLists(l1.next, l2)\n",
    "            # Retun the node with the smaller value\n",
    "            return l1\n",
    "        # Return the linked list of which we have not yet reached the end\n",
    "        return l1 or l2"
   ]
  },
  {
   "cell_type": "code",
   "execution_count": null,
   "metadata": {},
   "outputs": [],
   "source": [
    "# sol2. iterative\n",
    "class Solution:\n",
    "    # input되는 l1, l2는 linked list의 \"Head\" Node임을 명시하자\n",
    "    def mergeTwoLists(self, l1: ListNode, l2: ListNode) -> ListNode:\n",
    "        # -------------------------------------------------------------- STEP 1 : 노드 인스턴스 생성\n",
    "        # 2개의 노드 초기화. - tail을 head가 참조하도록\n",
    "        # head는 return용으로다가 포인터를 이동시키기않고 놔둘것임.\n",
    "        # tail은 지속적으로 전진시키며 trace를 만들것임.\n",
    "        merged_head = merged_tail = ListNode(None)\n",
    "        \n",
    "        # -------------------------------------------------------------- STEP 2 : 루프 생성\n",
    "        # While l1 and l2 both have nodes to be traversed\n",
    "        # 둘 중 하나가 완전히 순회되면 루프 종료\n",
    "        while l1 and l2:\n",
    "            # ---------------------------------------------------------- STEP 2.1 : 대소비교\n",
    "            # 각 리스트 노드의 value를 꺼내서 대소 비교\n",
    "            # If the node in l1 has the smaller value\n",
    "            if l1.val <= l2.val:\n",
    "                # ------------------------------------------------------ STEP 2.2 : tail 노드 확장 (주소 붙이기)\n",
    "                # tail 노드 인스턴스의 포인터변수(next)에 l1의 현재노드를 할당\n",
    "                # Add the node from l1 to the merged linked list\n",
    "                merged_tail.next = l1\n",
    "                # ------------------------------------------------------ STEP 2.3 : 대상 리스트 node 이동시키기\n",
    "                # Move to the next node in l1\n",
    "                l1 = l1.next\n",
    "            # If the node in l2 has the smaller value\n",
    "            else:\n",
    "                # Add the node from l2 to the merged linked list\n",
    "                merged_tail.next = l2\n",
    "                # Move to the next node in l2\n",
    "                l2 = l2.next\n",
    "            # ---------------------------------------------------------- STEP 3 : tail 노드 포인팅 갱신 (next)\n",
    "            # Update tail the tail reference to the new last node in the list\n",
    "            merged_tail = merged_tail.next\n",
    "        \n",
    "        # -------------------------------------------------------------- STEP 4 : 남은값들 통채로 append\n",
    "        # At this point one of the lists has been completely traversed \n",
    "        # so attach the other one to the end of the merged linked list\n",
    "        merged_tail.next = l1 or l2\n",
    "        \n",
    "        # -------------------------------------------------------------- STEP 5 : tail을 참조하는 head 반환\n",
    "        # Return the head to the merged linked list (처음값은 None이라서 하나 next한 객체를 반환)\n",
    "        return merged_head.next"
   ]
  },
  {
   "cell_type": "markdown",
   "metadata": {},
   "source": [
    "# q15. 역순 연결리스트"
   ]
  },
  {
   "cell_type": "code",
   "execution_count": null,
   "metadata": {},
   "outputs": [],
   "source": [
    "# 내 풀이\n",
    "def reverselist(head:ListNode) -> ListNode:\n",
    "    rev:ListNode = None\n",
    "    while head:\n",
    "        rev, rev.next, head = head, rev, head.next\n",
    "        \n",
    "    return rev"
   ]
  },
  {
   "cell_type": "code",
   "execution_count": null,
   "metadata": {},
   "outputs": [],
   "source": [
    "# 이해가 안되는 교재 풀이들\n",
    "\n",
    "# sol2. recursive\n",
    "def reverselist2(head: ListNode) -> ListNode:\n",
    "    def reverse(node:ListNode, prev:ListNode = None):\n",
    "        if not node:\n",
    "            return prev\n",
    "        next, node.next = node.next, prev\n",
    "        return reverse(next, node)\n",
    "    return reverse(head)\n",
    "\n",
    "# sol3. iterative\n",
    "def reverselist3(head: ListNode) -> ListNode:\n",
    "    node, prev = head, None\n",
    "\n",
    "    while node:\n",
    "        next, node.next = node.next, prev\n",
    "        prev, node = node, next\n",
    "    return prev"
   ]
  }
 ],
 "metadata": {
  "kernelspec": {
   "display_name": "Python 3",
   "language": "python",
   "name": "python3"
  },
  "language_info": {
   "codemirror_mode": {
    "name": "ipython",
    "version": 3
   },
   "file_extension": ".py",
   "mimetype": "text/x-python",
   "name": "python",
   "nbconvert_exporter": "python",
   "pygments_lexer": "ipython3",
   "version": "3.7.6"
  }
 },
 "nbformat": 4,
 "nbformat_minor": 4
}
