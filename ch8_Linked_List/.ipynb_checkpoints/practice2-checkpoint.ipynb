{
 "cells": [
  {
   "cell_type": "code",
   "execution_count": 1,
   "metadata": {},
   "outputs": [],
   "source": [
    "# 연결리스트의 노드 클래스\n",
    "class ListNode:\n",
    "    def __init__(self, val=0, next=None):\n",
    "        self.val = val\n",
    "        self.next = next"
   ]
  },
  {
   "cell_type": "markdown",
   "metadata": {},
   "source": [
    "# q17 페어의 노드스왑"
   ]
  },
  {
   "cell_type": "code",
   "execution_count": null,
   "metadata": {},
   "outputs": [],
   "source": [
    "# sol1. 연속한 노드간 값만 변경하기\n",
    "class Solution:\n",
    "    def swapPairs(self, head: ListNode) -> ListNode:\n",
    "        cur = head\n",
    "\n",
    "        while cur and cur.next:\n",
    "            cur.val, cur.next.val = cur.next.val, cur.val # 값교환\n",
    "            cur = cur.next.next # 2칸 이동\n",
    "\n",
    "        return head"
   ]
  },
  {
   "cell_type": "code",
   "execution_count": null,
   "metadata": {},
   "outputs": [],
   "source": [
    "# sol2. iterative\n",
    "class Solution:\n",
    "    def swapPairs(self, head: ListNode) -> ListNode:\n",
    "        root = prev = ListNode(None)\n",
    "        prev.next = head\n",
    "        while head and head.next:\n",
    "            b = head.next\n",
    "            head.next = b.next\n",
    "            b.next = head\n",
    "            \n",
    "            prev.next = b\n",
    "            \n",
    "            head = head.next\n",
    "            prev = prev.next.next\n",
    "        return root.next"
   ]
  },
  {
   "cell_type": "code",
   "execution_count": null,
   "metadata": {},
   "outputs": [],
   "source": [
    "# sol3. recursive\n",
    "class Solution:\n",
    "    def swapPairs(self, head: ListNode) -> ListNode:\n",
    "        if head and head.next:\n",
    "            p = head.next\n",
    "            # 스왑된 값 리턴 받음\n",
    "            head.next = self.swapPairs(p.next)\n",
    "            p.next = head\n",
    "            return p\n",
    "        return head"
   ]
  },
  {
   "cell_type": "code",
   "execution_count": null,
   "metadata": {},
   "outputs": [],
   "source": [
    "# 시간초과 풀이\n",
    "def swapLL(head:ListNode) -> ListNode:\n",
    "    head_copy = head\n",
    "    \n",
    "    cnt = 0; prev = None\n",
    "    while head:\n",
    "        cnt = cnt + 1\n",
    "        if (cnt%2):                       # 홀수\n",
    "            prev = head\n",
    "            head.next = head.next.next\n",
    "        else:                             # 짝수\n",
    "            head.next = prev      \n",
    "        head = head.next                    \n",
    "    \n",
    "    return head_copy"
   ]
  },
  {
   "cell_type": "markdown",
   "metadata": {},
   "source": [
    "# q18 홀짝 연결리스트"
   ]
  },
  {
   "cell_type": "code",
   "execution_count": null,
   "metadata": {},
   "outputs": [],
   "source": [
    "def oddevenLL(head:ListNode) -> ListNode:\n",
    "    if head is None:\n",
    "        return None\n",
    "    \n",
    "    odd, even, even_head = head, head.next, head.next\n",
    "    \n",
    "    while even and even.next: \n",
    "        odd.next, even.next = odd.next.next, even.next.next # 포인터 2보 전진\n",
    "        odd, even = odd.next, even.next                     # 노드 이동\n",
    "    \n",
    "    odd.next = even_head                                    # odd와 even 연결\n",
    "    return head"
   ]
  },
  {
   "cell_type": "code",
   "execution_count": 3,
   "metadata": {},
   "outputs": [
    {
     "name": "stdout",
     "output_type": "stream",
     "text": [
      "[4, 2, 3] [4, 2, 3]\n",
      "[4, 8, 3] [4, 8, 3]\n"
     ]
    }
   ],
   "source": [
    "a = b = [1,2,3]\n",
    "\n",
    "a[0] = 4\n",
    "print(a, b) # 어 대박 공통 객체를 참조하는구나 ? \n",
    "b[1] = 8\n",
    "print(a, b) \n",
    "\n",
    "# b를 바꾸면 a는 당연히 같이 바뀌지만\n",
    "# a를 바꾸면 b는 안바뀌는줄 알았는데 그게 아니었네?? - 순차적인 할당이 아닌 병렬적인 할당인듯"
   ]
  },
  {
   "cell_type": "markdown",
   "metadata": {},
   "source": [
    "# Q19 역순연결리스트2"
   ]
  },
  {
   "cell_type": "code",
   "execution_count": null,
   "metadata": {},
   "outputs": [],
   "source": [
    "# 그림그려보는게 답\n",
    "def reverseLL2(head:ListNode, left:int, right:int) -> ListNode:\n",
    "    # 예외처리\n",
    "    if not head or left == right:\n",
    "        return head\n",
    "    # --------------------------------------------------------------------------\n",
    "    root = start = ListNode(None)         # output으로 root.next를 반환할 것임\n",
    "    root.next = head                      # root node가 전체 input된 LL을 잠조하도록 하였음\n",
    "                                          # 그와 동시에 start는 root와 동일한 객체를 참조하므로 똑같이 처리됨\n",
    "    # --------------------------------------------------------------------------\n",
    "    # 포인팅 변경의 start와 end노드 설정. (이 노드들은 값이 변경되지 않으며 pointer를 변경하는 기준이된다.)\n",
    "    for _ in range(left - 1):\n",
    "        start = start.next\n",
    "    end = start.next\n",
    "    \n",
    "    # start노드와 end노드를 기준으로 pointing 반복변경\n",
    "    for _ in range(right - left):\n",
    "        tmp, start.next, end.next = start.next, end.next, end.next.next\n",
    "        start.next.next = tmp\n",
    "    # start가 pointing하는 node가 한 단계씩 상승\n",
    "    # end의 절대적 위치가 한 수준씩 상승\n",
    "        \n",
    "    return root.next"
   ]
  }
 ],
 "metadata": {
  "kernelspec": {
   "display_name": "Python 3",
   "language": "python",
   "name": "python3"
  },
  "language_info": {
   "codemirror_mode": {
    "name": "ipython",
    "version": 3
   },
   "file_extension": ".py",
   "mimetype": "text/x-python",
   "name": "python",
   "nbconvert_exporter": "python",
   "pygments_lexer": "ipython3",
   "version": "3.7.6"
  }
 },
 "nbformat": 4,
 "nbformat_minor": 4
}
