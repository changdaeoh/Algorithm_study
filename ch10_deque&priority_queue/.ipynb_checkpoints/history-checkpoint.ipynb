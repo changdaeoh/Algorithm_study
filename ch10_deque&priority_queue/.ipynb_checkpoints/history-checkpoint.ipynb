{
 "cells": [
  {
   "cell_type": "markdown",
   "metadata": {},
   "source": [
    "# Deque\n",
    "* Double-Ended-Queue : 양쪽 끝에서 삽입/추출이 가능. queue의 일반화 자료형\n",
    "\n",
    "<img src = \"https://github.com/changdaeoh/Algorithm_study/blob/main/images/10_deque.jpg?raw=true\" width = \"80%\" height = \"80%\">\n",
    "<img src = \"https://github.com/changdaeoh/Algorithm_study/blob/main/images/10_1.jpg?raw=true\" width = \"80%\" height = \"80%\">"
   ]
  },
  {
   "cell_type": "markdown",
   "metadata": {},
   "source": [
    "## q26 design circular deque"
   ]
  },
  {
   "cell_type": "code",
   "execution_count": null,
   "metadata": {},
   "outputs": [],
   "source": [
    "# double linked list\n",
    "\n",
    "class ListNode:\n",
    "    def __init__(self, val=0, left=None, right=None):\n",
    "        self.val = val\n",
    "        self.left = left\n",
    "        self.right = right\n",
    "        \n",
    "class MyCircularDeque:\n",
    "    # head와 tail에는 값이 안담겨있음(None node임). 단지 이중리스트 양끝을 명시하는 단방향 연결노드\n",
    "    def __init__(self, k: int):\n",
    "        self.head, self.tail = ListNode(None), ListNode(None)\n",
    "        self.k, self.len = k, 0\n",
    "        self.head.right, self.tail.left = self.tail, self.head\n",
    "\n",
    "    def insertFront(self, value: int) -> bool:\n",
    "        if self.len == self.k:\n",
    "            return False\n",
    "        self.len += 1\n",
    "        self._add(self.head, ListNode(value))\n",
    "        return True\n",
    "\n",
    "    def insertLast(self, value: int) -> bool:\n",
    "        if self.len == self.k:\n",
    "            return False\n",
    "        self.len += 1\n",
    "        self._add(self.tail.left, ListNode(value))\n",
    "        return True\n",
    "    \n",
    "    # node : 기존에 존재하던 노드\n",
    "    # new : 새로 추가하고자 하는 노드\n",
    "    def _add(self, node:ListNode, new:ListNode):\n",
    "        n = node.right                 # n : 기존에 존재하던 노드 우측에 있는 노드 instance\n",
    "        node.right = new               # node의 우측 포인터에 신규추가노드 new를 할당\n",
    "        new.left, new.right = node, n  # new의 left 포인터에는 node, right포인터에는 n을 할당\n",
    "        n.left = new                   # n의 left 포인터에 new node 할당 \n",
    "    \n",
    "    def _del(self, node:ListNode):\n",
    "        n = node.right.right           # node -> something -> n(노드의 옆옆 노드 instance)\n",
    "        node.right = n                 # node -> n \n",
    "        n.left = node                  # node <- n\n",
    "\n",
    "    def deleteFront(self) -> bool:\n",
    "        if self.len == 0:\n",
    "            return False\n",
    "        self.len -= 1\n",
    "        self._del(self.head)\n",
    "        return True\n",
    "        \n",
    "    def deleteLast(self) -> bool:\n",
    "        if self.len == 0:\n",
    "            return False\n",
    "        self.len -= 1\n",
    "        self._del(self.tail.left.left)\n",
    "        return True\n",
    "\n",
    "    def getFront(self) -> int:\n",
    "        return self.head.right.val if self.len else -1\n",
    "        \n",
    "    def getRear(self) -> int:\n",
    "        return self.tail.left.val if self.len else -1\n",
    "        \n",
    "    def isEmpty(self) -> bool:\n",
    "        return self.len == 0\n",
    "\n",
    "    def isFull(self) -> bool:\n",
    "        return self.len == self.k\n",
    "        \n",
    "\n",
    "\n",
    "# Your MyCircularDeque object will be instantiated and called as such:\n",
    "# obj = MyCircularDeque(k)\n",
    "# param_1 = obj.insertFront(value)\n",
    "# param_2 = obj.insertLast(value)\n",
    "# param_3 = obj.deleteFront()\n",
    "# param_4 = obj.deleteLast()\n",
    "# param_5 = obj.getFront()\n",
    "# param_6 = obj.getRear()\n",
    "# param_7 = obj.isEmpty()\n",
    "# param_8 = obj.isFull()"
   ]
  },
  {
   "cell_type": "markdown",
   "metadata": {},
   "source": [
    "<img src = \"https://github.com/changdaeoh/Algorithm_study/blob/main/images/10_2.jpg?raw=true\" width = \"80%\" height = \"80%\">"
   ]
  },
  {
   "cell_type": "code",
   "execution_count": 4,
   "metadata": {},
   "outputs": [
    {
     "data": {
      "text/plain": [
       "['b', 'c']"
      ]
     },
     "execution_count": 4,
     "metadata": {},
     "output_type": "execute_result"
    }
   ],
   "source": [
    "a = ['a','b','c']\n",
    "del a[0]\n",
    "a"
   ]
  },
  {
   "cell_type": "code",
   "execution_count": null,
   "metadata": {},
   "outputs": [],
   "source": [
    "# using list\n",
    "class MyCircularDeque:\n",
    "    def __init__(self, k: int):\n",
    "        self.c_deque = []\n",
    "        self.k, self.len = k, 0\n",
    "\n",
    "    def insertFront(self, value: int) -> bool:\n",
    "        if self.len == self.k:\n",
    "            return False\n",
    "        self.len += 1\n",
    "        self.c_deque.insert(0, value)\n",
    "        return True\n",
    "\n",
    "    def insertLast(self, value: int) -> bool:\n",
    "        if self.len == self.k:\n",
    "            return False\n",
    "        self.len += 1\n",
    "        self.c_deque.append(value)\n",
    "        return True\n",
    "    \n",
    "    def deleteFront(self) -> bool:\n",
    "        if self.len == 0:\n",
    "            return False\n",
    "        del self.c_deque[0] # or .pop(0)\n",
    "        self.len -= 1\n",
    "        return True\n",
    "        \n",
    "    def deleteLast(self) -> bool:\n",
    "        if self.len == 0:\n",
    "            return False\n",
    "        del self.c_deque[self.len-1] # or .pop()\n",
    "        self.len -= 1\n",
    "        return True\n",
    "\n",
    "    def getFront(self) -> int:\n",
    "        return self.c_deque[0] if self.len else -1\n",
    "        \n",
    "    def getRear(self) -> int:\n",
    "        return self.c_deque[self.len-1] if self.len else -1\n",
    "        \n",
    "    def isEmpty(self) -> bool:\n",
    "        return self.len == 0\n",
    "\n",
    "    def isFull(self) -> bool:\n",
    "        return self.len == self.k"
   ]
  },
  {
   "cell_type": "markdown",
   "metadata": {},
   "source": [
    "# priority queue\n",
    "* 어떠한 특정 조건에 따라 우선순위가 가장 높은 요소가 추출되는 자료형"
   ]
  },
  {
   "cell_type": "markdown",
   "metadata": {},
   "source": [
    "## q27 _ merge_k-sorted-lists"
   ]
  },
  {
   "cell_type": "code",
   "execution_count": 7,
   "metadata": {},
   "outputs": [],
   "source": [
    "# Definition for singly-linked list.\n",
    "class ListNode:\n",
    "    def __init__(self, val=0, next=None):\n",
    "        self.val = val\n",
    "        self.next = next"
   ]
  },
  {
   "cell_type": "code",
   "execution_count": 8,
   "metadata": {},
   "outputs": [],
   "source": [
    "l1 = ListNode(1, ListNode(4, ListNode(5, None)))\n",
    "l2 = ListNode(1, ListNode(3, ListNode(4, None)))\n",
    "l3 = ListNode(2, ListNode(6, None))"
   ]
  },
  {
   "cell_type": "code",
   "execution_count": 29,
   "metadata": {},
   "outputs": [
    {
     "name": "stdout",
     "output_type": "stream",
     "text": [
      "1\n",
      "1\n",
      "2\n",
      "3\n",
      "4\n",
      "4\n",
      "5\n",
      "6\n"
     ]
    }
   ],
   "source": [
    "res = mergeKLists([l1, l2, l3])\n",
    "\n",
    "for i in range(8):\n",
    "    print(res.val)\n",
    "    res = res.next"
   ]
  },
  {
   "cell_type": "markdown",
   "metadata": {},
   "source": [
    "<img src = \"https://github.com/changdaeoh/Algorithm_study/blob/main/images/10_27_mysol.jpg?raw=true\" width = \"80%\" height = \"80%\">"
   ]
  },
  {
   "cell_type": "code",
   "execution_count": 25,
   "metadata": {},
   "outputs": [],
   "source": [
    "from typing import List\n",
    "# 묶음비교\n",
    "def mergeKLists(lists: List[ListNode]) -> ListNode :\n",
    "    root = merged = ListNode(None)\n",
    "    \n",
    "    lists = [node for node in lists if node] # delete None\n",
    "    while lists:\n",
    "        # 매 단계마다 각 ListNode의 value 순회\n",
    "        idx = 0\n",
    "        min_v = lists[idx].val\n",
    "        for i in range(len(lists)):\n",
    "            if lists[i].val < min_v:\n",
    "                min_v = lists[i].val\n",
    "                idx = i\n",
    "        # 결과 연결리스트 노드에 값추가\n",
    "        merged.next = ListNode(min_v)\n",
    "        merged = merged.next\n",
    "        # 최소값 뽑아낸 리스트 노드 한칸 전진\n",
    "        lists[idx] = lists[idx].next\n",
    "        # None이 된 node 제거\n",
    "        if lists[idx] is None: lists.remove(None)\n",
    "        \n",
    "    return root.next"
   ]
  },
  {
   "cell_type": "code",
   "execution_count": null,
   "metadata": {},
   "outputs": [],
   "source": [
    "class Solution:\n",
    "    def mergeKLists(self, lists: List[ListNode]) -> ListNode :\n",
    "        root = merged = ListNode(None)\n",
    "\n",
    "        lists = [node for node in lists if node] # delete None\n",
    "        while lists:\n",
    "            # 매 단계마다 각 ListNode의 value 순회\n",
    "            idx = 0\n",
    "            min_v = lists[idx].val\n",
    "            for i in range(len(lists)):\n",
    "                if lists[i].val < min_v:\n",
    "                    min_v = lists[i].val\n",
    "                    idx = i\n",
    "            # 결과 연결리스트 노드에 값추가\n",
    "            merged.next = ListNode(min_v)\n",
    "            merged = merged.next\n",
    "            # 최소값 뽑아낸 리스트 노드 한칸 전진\n",
    "            lists[idx] = lists[idx].next\n",
    "            # None이 된 node 제거\n",
    "            if lists[idx] is None: lists.remove(None)\n",
    "\n",
    "        return root.next"
   ]
  }
 ],
 "metadata": {
  "kernelspec": {
   "display_name": "Python 3",
   "language": "python",
   "name": "python3"
  },
  "language_info": {
   "codemirror_mode": {
    "name": "ipython",
    "version": 3
   },
   "file_extension": ".py",
   "mimetype": "text/x-python",
   "name": "python",
   "nbconvert_exporter": "python",
   "pygments_lexer": "ipython3",
   "version": "3.7.6"
  }
 },
 "nbformat": 4,
 "nbformat_minor": 4
}
