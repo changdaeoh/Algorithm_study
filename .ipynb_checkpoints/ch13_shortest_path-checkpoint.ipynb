{
 "cells": [
  {
   "cell_type": "code",
   "execution_count": null,
   "metadata": {},
   "outputs": [],
   "source": [
    "# 반복을 이용한 BFS구현\n",
    "def iterative_bfs(start_v):\n",
    "    discovered = [start_v]\n",
    "    queue = [start_v]\n",
    "    while queue:\n",
    "        v = queue.pop(0)\n",
    "        for w in graph[v]:\n",
    "            if w not in discovered:\n",
    "                discovered.append(w)\n",
    "                queue.append(w)\n",
    "    return discovered"
   ]
  },
  {
   "cell_type": "markdown",
   "metadata": {},
   "source": [
    "# q40 네트워크 딜레이타임\n",
    "https://leetcode.com/problems/network-delay-time/"
   ]
  },
  {
   "cell_type": "markdown",
   "metadata": {},
   "source": [
    "<img src = \"https://github.com/changdaeoh/Algorithm_study/blob/main/images/13_q41.jpg?raw=true\" width = \"60%\" height = \"60%\">"
   ]
  },
  {
   "cell_type": "code",
   "execution_count": null,
   "metadata": {},
   "outputs": [],
   "source": [
    "import collections\n",
    "import heapq\n",
    "from typing import List\n",
    "\n",
    "\n",
    "def networkDelayTime(times: List[List[int]], N: int, K: int) -> int:\n",
    "    graph = collections.defaultdict(list)\n",
    "    # 그래프 생성\n",
    "    for u, v, w in times:\n",
    "        graph[u].append((v, w))\n",
    "\n",
    "    # 큐 변수: [(소요 시간, 정점)] - 각 node별 도달하기까지 소요시간 저장\n",
    "    Q = [(0, K)]\n",
    "    dist = collections.defaultdict(int)\n",
    "\n",
    "    # 우선 순위 큐 최소값 기준으로 정점까지 최단 경로 삽입\n",
    "    while Q:\n",
    "        # 우선순위 큐에서 가장 우선순위가 높은(최소소요시간)을 갖는 (시간, 노드) 쌍을 추출\n",
    "        # 파이썬의 heapq는 최소힙이기 떄문에 항상 소요시간이 최소인 노드가 상단에 올라와있음.\n",
    "        time, node = heapq.heappop(Q)\n",
    "        # 추출한 노드가 다이엑스트라값 사전에 존재하지 않는다면 아래의 과정을 거쳐 추가시킴\n",
    "        if node not in dist:\n",
    "            dist[node] = time\n",
    "            # 그 노드의 하위노드들에 접근.\n",
    "            for v, w in graph[node]:\n",
    "                # 현재 노드에서 트래킹중인 시간에 다음노드로 전이함에 따라 추가로 소요되는 시간을 더함.\n",
    "                alt = time + w\n",
    "                # 큐에 소요시간을 중요도로 설정하여 노드를 삽입 ((시간, 노드) 쌍)\n",
    "                # 삽입되는 과정에서 힙의 모든 노드의 우선순위를 고려하여 적절히 재배치가 이루어짐\n",
    "                heapq.heappush(Q, (alt, v))\n",
    "\n",
    "    # 모든 노드 도달가능여부를 if로 체크하고 필요한 소요시간 반환\n",
    "    if len(dist) == N:\n",
    "        return max(dist.values())\n",
    "    return -1\n",
    "\n",
    "times = [[3,1,5],[3,2,2],[2,1,2],[3,4,1],[4,5,1],[5,6,1],[6,7,1],[7,8,1],[8,1,1]]\n",
    "n = 8\n",
    "k = 3\n",
    "print(networkDelayTime(times, n, k))"
   ]
  },
  {
   "cell_type": "markdown",
   "metadata": {},
   "source": [
    "# q41 k경유지 내 가장 저렴한 항공권\n",
    "https://leetcode.com/problems/cheapest-flights-within-k-stops/"
   ]
  },
  {
   "cell_type": "markdown",
   "metadata": {},
   "source": [
    "?? 시간초과"
   ]
  },
  {
   "cell_type": "code",
   "execution_count": null,
   "metadata": {},
   "outputs": [],
   "source": [
    "def findCheapestPrice(n:int, flights:List[List[int]], src:int, dst:int, K:int) -> int:\n",
    "    graph = collections.defaultdict(list)\n",
    "\n",
    "    for s, t, c in flights:\n",
    "        graph[s].append((t, c))\n",
    "    \n",
    "    k = 0\n",
    "    Q = [(0, src, k)] # (가격, 노드, 누적 경유지)\n",
    "\n",
    "    while Q:\n",
    "        price, node, k = heapq.heappop(Q)\n",
    "        # 목적지 도달시의 행동\n",
    "        if node == dst :                       \n",
    "            return price # 걍 바로반환. 왜? 최소힙에서 뽑아오고있으니까\n",
    "        # 경유지 개수를 트래킹하여 조건에 만족하는 경우에만 최소힙에 추가\n",
    "        if k <= K:                             \n",
    "            k += 1\n",
    "            for v, w in graph[node]:\n",
    "                alt = price + w\n",
    "                heapq.heappush(Q, (alt, v, k))\n",
    "    return -1"
   ]
  },
  {
   "cell_type": "code",
   "execution_count": null,
   "metadata": {},
   "outputs": [],
   "source": [
    "# k만 바꿔준 솔루션\n",
    "class Solution:\n",
    "    def findCheapestPrice(self, n:int, flights:List[List[int]], src:int, dst:int, K:int) -> int:\n",
    "        graph = collections.defaultdict(list)\n",
    "\n",
    "        for s, t, c in flights:\n",
    "            graph[s].append((t, c))\n",
    "\n",
    "        Q = [(0, src, K)] # (가격, 노드, 남은 가능 경유지수)\n",
    "\n",
    "        while Q:\n",
    "            price, node, k = heapq.heappop(Q)\n",
    "            # 목적지 도달시의 행동\n",
    "            if node == dst :                       \n",
    "                return price # 걍 바로반환. 왜? 최소힙에서 뽑아오고있으니까\n",
    "            # 경유지 개수를 트래킹하여 조건에 만족하는 경우에만 최소힙에 추가\n",
    "            if k >= 0:                             \n",
    "                for v, w in graph[node]:\n",
    "                    alt = price + w\n",
    "                    heapq.heappush(Q, (alt, v, k-1))\n",
    "        return -1"
   ]
  }
 ],
 "metadata": {
  "kernelspec": {
   "display_name": "Python 3",
   "language": "python",
   "name": "python3"
  },
  "language_info": {
   "codemirror_mode": {
    "name": "ipython",
    "version": 3
   },
   "file_extension": ".py",
   "mimetype": "text/x-python",
   "name": "python",
   "nbconvert_exporter": "python",
   "pygments_lexer": "ipython3",
   "version": "3.7.6"
  }
 },
 "nbformat": 4,
 "nbformat_minor": 4
}
