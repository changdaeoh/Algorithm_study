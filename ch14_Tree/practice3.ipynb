{
 "cells": [
  {
   "cell_type": "code",
   "execution_count": 2,
   "metadata": {},
   "outputs": [],
   "source": [
    "import collections"
   ]
  },
  {
   "cell_type": "code",
   "execution_count": 1,
   "metadata": {},
   "outputs": [],
   "source": [
    "class TreeNode(object):\n",
    "    def __init__(self, x):\n",
    "        self.val = x\n",
    "        self.left = None\n",
    "        self.right = None"
   ]
  },
  {
   "cell_type": "markdown",
   "metadata": {},
   "source": [
    "# q47 이진트리 직렬화 / 역직렬화\n",
    "\n",
    "https://leetcode.com/problems/serialize-and-deserialize-binary-tree/"
   ]
  },
  {
   "cell_type": "code",
   "execution_count": null,
   "metadata": {},
   "outputs": [],
   "source": [
    "class Codec:\n",
    "    def serialize(self, root:TreeNode) -> str:\n",
    "        queue = collections.deque([root])\n",
    "        result = ['#']\n",
    "        \n",
    "        while queue:\n",
    "            node = queue.popleft()\n",
    "            if node:\n",
    "                queue.append(node.left)\n",
    "                queue.append(node.right)\n",
    "                \n",
    "                result.append(str(node.val))\n",
    "            else:\n",
    "                result.append('#')\n",
    "        return result\n",
    "        \n",
    "    def deserialize(self, data:list) -> TreeNode:\n",
    "        if data == ['#','#']:\n",
    "            return None\n",
    "        # nodes = data.split()\n",
    "        \n",
    "        root = TreeNode(int(data[1]))\n",
    "        queue = collections.deque([root])\n",
    "        index = 2\n",
    "        \n",
    "        while queue:\n",
    "            node = queue.popleft()\n",
    "            if data[index] is not '#':\n",
    "                node.left = TreeNode(int(data[index]))\n",
    "                queue.append(node.left)\n",
    "            index += 1\n",
    "            \n",
    "            if data[index] is not '#':\n",
    "                node.right = TreeNode(int(data[index]))\n",
    "                queue.append(node.right)\n",
    "            index += 1\n",
    "        \n",
    "        return root"
   ]
  },
  {
   "cell_type": "markdown",
   "metadata": {},
   "source": [
    "# q48 균형이진트리\n",
    "https://leetcode.com/problems/balanced-binary-tree/"
   ]
  },
  {
   "cell_type": "code",
   "execution_count": null,
   "metadata": {},
   "outputs": [],
   "source": [
    "class Solution:\n",
    "    def isBalanced(self, root: TreeNode) -> bool:\n",
    "        def check(root):\n",
    "            # 루트의 아래 가상의 노드 상태값 0 초기화\n",
    "            if not root:\n",
    "                return 0\n",
    "            # 재귀탐색\n",
    "            left = check(root.left)\n",
    "            right = check(root.right)\n",
    "            # 자식 둘중 하나라도 -1이거나 자식간 val차이가 1이상이면 -1\n",
    "            if left == -1 or \\\n",
    "                    right == -1 or \\\n",
    "                    abs(left - right) > 1:\n",
    "                return -1\n",
    "            # 그렇지 않다면 큰 자식위상 + 1\n",
    "            return max(left, right) + 1\n",
    "        # root 상태값 -1과의 비교 (한번 -1 뜨면 계속 -1 전파됨)\n",
    "        return check(root) != -1"
   ]
  },
  {
   "cell_type": "markdown",
   "metadata": {},
   "source": [
    "# q49 최소높이트리\n",
    "https://leetcode.com/problems/minimum-height-trees/"
   ]
  },
  {
   "cell_type": "code",
   "execution_count": 6,
   "metadata": {},
   "outputs": [],
   "source": [
    "from typing import List\n",
    "\n",
    "class Solution:\n",
    "    def findMinHeightTrees(self, n: int, edges: List[List[int]]) -> List[int]:\n",
    "        if n <= 1:\n",
    "            return [0]\n",
    "        # 양방향 그래프 구성\n",
    "        graph = collections.defaultdict(list)\n",
    "        for i, j in edges:\n",
    "            graph[i].append(j)\n",
    "            graph[j].append(i)\n",
    "        \n",
    "        # 최초의 리프노드 식별하여 저장\n",
    "        leaves = []\n",
    "        for i in range(n+1):\n",
    "            # value가 1인 노드가 리프노드 (하나의 연결뿐이라는거)\n",
    "            if len(graph[i]) == 1:  \n",
    "                leaves.append(i)\n",
    "        \n",
    "        # 더이상의 리프노드가 없을때까지 반복하여 제거\n",
    "        while n > 2:\n",
    "            n -= len(leaves)\n",
    "            new_leaves = []\n",
    "            for leaf in leaves:\n",
    "                # 추가할때 양방향으로 해줬으니 제거할때도 양방향으로 \n",
    "                # (아래 두 행 모두 리스트에 대해 적용하고있는 메서드)\n",
    "                neighbor = graph[leaf].pop() # 하나뿐이던 이웃을 pop하는거임\n",
    "                graph[neighbor].remove(leaf) # 이웃입장에서도 leaf 손절\n",
    "                \n",
    "                # 리프노드가 향했던 이웃노드가 그 리프노드를 제거함으로써 \n",
    "                # 덩달아 리프노드가 됬다면 new_leaves에 저장.\n",
    "                if len(graph[neighbor]) == 1:\n",
    "                    new_leaves.append(neighbor)\n",
    "                \n",
    "            leaves = new_leaves # 리프노드 갱신\n",
    "        \n",
    "        return leaves"
   ]
  }
 ],
 "metadata": {
  "kernelspec": {
   "display_name": "Python 3",
   "language": "python",
   "name": "python3"
  },
  "language_info": {
   "codemirror_mode": {
    "name": "ipython",
    "version": 3
   },
   "file_extension": ".py",
   "mimetype": "text/x-python",
   "name": "python",
   "nbconvert_exporter": "python",
   "pygments_lexer": "ipython3",
   "version": "3.7.6"
  }
 },
 "nbformat": 4,
 "nbformat_minor": 4
}
