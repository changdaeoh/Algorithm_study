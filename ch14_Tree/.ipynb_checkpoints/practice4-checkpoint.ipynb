{
 "cells": [
  {
   "cell_type": "code",
   "execution_count": 1,
   "metadata": {},
   "outputs": [],
   "source": [
    "class TreeNode(object):\n",
    "    def __init__(self, x):\n",
    "        self.val = x\n",
    "        self.left = None\n",
    "        self.right = None"
   ]
  },
  {
   "cell_type": "markdown",
   "metadata": {},
   "source": [
    "# q50 정렬된 배열의 이진 탐색트리 변환\n",
    "https://leetcode.com/problems/convert-sorted-array-to-binary-search-tree/submissions/"
   ]
  },
  {
   "cell_type": "code",
   "execution_count": null,
   "metadata": {},
   "outputs": [],
   "source": [
    "class Solution:\n",
    "    def sortedArrayToBST(self, nums: List[int]) -> TreeNode:\n",
    "        if not nums:\n",
    "            return None\n",
    "        # 원소 수가 홀수면 정확히 가운데\n",
    "        # 짝수면 중앙보다 0.5 큰값 (a,b,c,d) => 2 (a,b,c,d,e,f) => 3\n",
    "        mid = len(nums) // 2 # 중앙의 인덱스를 의미\n",
    "        \n",
    "        # 분할정복 with 재귀. -> 순차적으로 이진탐색결과트리 구성\n",
    "        node = TreeNode(nums[mid])\n",
    "        node.left = self.sortedArrayToBST(nums[:mid])\n",
    "        node.right = self.sortedArrayToBST(nums[mid + 1:])\n",
    "        \n",
    "        return node"
   ]
  },
  {
   "cell_type": "markdown",
   "metadata": {},
   "source": [
    "# Q51 BST를 더큰수 합계 트리로\n",
    "https://leetcode.com/problems/binary-search-tree-to-greater-sum-tree/"
   ]
  },
  {
   "cell_type": "code",
   "execution_count": null,
   "metadata": {},
   "outputs": [],
   "source": [
    "class Solution:\n",
    "    val : int = 0\n",
    "        \n",
    "    def bstToGst(self, root: TreeNode) -> TreeNode:\n",
    "        if root:\n",
    "            self.bstToGst(root.right)  # 우측 자식들 먼저 쫙 탐색\n",
    "            self.val += root.val       # 탐색종료 후 거슬러올라가며 value 누적\n",
    "            root.val = self.val        # 현재 순회중인 노드의 값을 누적값으로 업뎃\n",
    "            self.bstToGst(root.left)   # 업데이트 순서는 \"우자, 현, 좌자, 현부\" 순\n",
    "        \n",
    "        return root"
   ]
  },
  {
   "cell_type": "markdown",
   "metadata": {},
   "source": [
    "# q52 BST 합의 범위\n",
    "https://leetcode.com/problems/range-sum-of-bst/"
   ]
  },
  {
   "cell_type": "code",
   "execution_count": null,
   "metadata": {},
   "outputs": [],
   "source": [
    "# sol 1. brute force\n",
    "class Solution:\n",
    "    res:int = 0\n",
    "        \n",
    "    def rangeSumBST(self, root: TreeNode, low: int, high: int) -> int:\n",
    "        if root is None:\n",
    "            return 0\n",
    "        \n",
    "        if (low <= root.val <= high) :\n",
    "            self.res += root.val\n",
    "            \n",
    "        self.rangeSumBST(root.left, low, high)\n",
    "        self.rangeSumBST(root.right, low, high)\n",
    "        \n",
    "        return self.res\n",
    "\n",
    "''' 중간에 가지치기 추가가능\n",
    "if root.val < low:\n",
    "    return self.rangeSumBST(root.right, low, high)\n",
    "elif root.val > high:\n",
    "    return self.rangeSumBST(root.left, low, high)\n",
    "'''"
   ]
  },
  {
   "cell_type": "code",
   "execution_count": null,
   "metadata": {},
   "outputs": [],
   "source": [
    "# sol 2. 더깔끔\n",
    "class Solution:\n",
    "    def rangeSumBST(self, root: TreeNode, low: int, high: int) -> int:\n",
    "        def dfs(node : TreeNode):\n",
    "            if not node:\n",
    "                return 0\n",
    "            \n",
    "            # pruning condition\n",
    "            if node.val < low:\n",
    "                return dfs(node.right)\n",
    "            elif node.val > high:\n",
    "                return dfs(node.left)\n",
    "            \n",
    "            return node.val + dfs(node.left) + dfs(node.right)\n",
    "        \n",
    "        return dfs(root)"
   ]
  },
  {
   "cell_type": "code",
   "execution_count": null,
   "metadata": {},
   "outputs": [],
   "source": [
    "# sol 3. iterative dfs\n",
    "class Solution:\n",
    "    def rangeSumBST(self, root: TreeNode, low: int, high: int) -> int:\n",
    "        stack, sum_ = [root], 0\n",
    "        \n",
    "        while stack:\n",
    "            node = stack.pop()\n",
    "            if node:\n",
    "                # pruning condition\n",
    "                if node.val > low:\n",
    "                    stack.append(node.left)\n",
    "                if node.val < high:\n",
    "                    stack.append(node.right)\n",
    "                    \n",
    "                if low <= node.val <= high:\n",
    "                    sum_ += node.val\n",
    "        return sum_"
   ]
  },
  {
   "cell_type": "code",
   "execution_count": null,
   "metadata": {},
   "outputs": [],
   "source": []
  }
 ],
 "metadata": {
  "kernelspec": {
   "display_name": "Python 3",
   "language": "python",
   "name": "python3"
  },
  "language_info": {
   "codemirror_mode": {
    "name": "ipython",
    "version": 3
   },
   "file_extension": ".py",
   "mimetype": "text/x-python",
   "name": "python",
   "nbconvert_exporter": "python",
   "pygments_lexer": "ipython3",
   "version": "3.7.7"
  }
 },
 "nbformat": 4,
 "nbformat_minor": 4
}
