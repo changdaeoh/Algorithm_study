{
 "cells": [
  {
   "cell_type": "markdown",
   "metadata": {},
   "source": [
    "# TEST CASE"
   ]
  },
  {
   "cell_type": "code",
   "execution_count": 1,
   "metadata": {},
   "outputs": [],
   "source": [
    "class TreeNode:\n",
    "    def __init__(self, val=0, left=None, right=None):\n",
    "        self.val = val\n",
    "        self.left = left\n",
    "        self.right = right"
   ]
  },
  {
   "cell_type": "code",
   "execution_count": 2,
   "metadata": {},
   "outputs": [],
   "source": [
    "t3_1 = TreeNode(15, None, None)\n",
    "t3_2 = TreeNode(7, None, None)\n",
    "t2_1 = TreeNode(9, None, None)\n",
    "t2_2 = TreeNode(20, t3_1, t3_2)\n",
    "t1_1 = TreeNode(3, t2_1, t2_2)"
   ]
  },
  {
   "cell_type": "code",
   "execution_count": 53,
   "metadata": {},
   "outputs": [],
   "source": [
    "# 리스트 to 트리 (null 없는 포화이진트리 한정)\n",
    "import collections\n",
    "\n",
    "def list2tree(node_list:list) -> TreeNode:\n",
    "    node_list = collections.deque(node_list)\n",
    "    res_root = TreeNode(val=node_list.popleft())\n",
    "    queue = collections.deque([res_root])\n",
    "    \n",
    "    while queue and node_list:\n",
    "        for i in range(len(queue)):\n",
    "            cur_node = queue.popleft()\n",
    "            cur_node.left = TreeNode(val=node_list.popleft())\n",
    "            cur_node.right = TreeNode(val=node_list.popleft())\n",
    "            \n",
    "            queue.append(cur_node.left)\n",
    "            queue.append(cur_node.right)\n",
    "    \n",
    "    return res_root"
   ]
  },
  {
   "cell_type": "code",
   "execution_count": 38,
   "metadata": {},
   "outputs": [
    {
     "name": "stdout",
     "output_type": "stream",
     "text": [
      "<__main__.TreeNode object at 0x000001E7BDB526C8>\n"
     ]
    }
   ],
   "source": [
    "tree = list2tree([4,2,7,1,3,6,9])\n",
    "print(tree)"
   ]
  },
  {
   "cell_type": "code",
   "execution_count": 54,
   "metadata": {},
   "outputs": [],
   "source": [
    "# 트리 to 리스트 (null 없는 포화이진트리 한정)\n",
    "import collections\n",
    "\n",
    "def tree2list(root:TreeNode) -> list:\n",
    "    queue = collections.deque([root])\n",
    "    result = []\n",
    "    \n",
    "    while queue:\n",
    "        result = result + [ node.val for node in queue ]\n",
    "        \n",
    "        for _ in range(len(queue)):\n",
    "            cur_node = queue.popleft()\n",
    "            if cur_node.left:\n",
    "                queue.append(cur_node.left)\n",
    "            if cur_node.right:\n",
    "                queue.append(cur_node.right)\n",
    "    \n",
    "    return result"
   ]
  },
  {
   "cell_type": "code",
   "execution_count": 37,
   "metadata": {},
   "outputs": [
    {
     "name": "stdout",
     "output_type": "stream",
     "text": [
      "[4, 2, 7, 1, 3, 6, 9]\n"
     ]
    }
   ],
   "source": [
    "list_ = tree2list(tree)\n",
    "print(list_)"
   ]
  },
  {
   "cell_type": "markdown",
   "metadata": {},
   "source": [
    "# q45 이진트리 반전\n",
    "https://leetcode.com/problems/invert-binary-tree/"
   ]
  },
  {
   "cell_type": "code",
   "execution_count": 49,
   "metadata": {},
   "outputs": [],
   "source": [
    "# solution 1 : 고봉밥\n",
    "import collections\n",
    "\n",
    "def invertTree(root: TreeNode) -> TreeNode:\n",
    "    if root is None:\n",
    "        return root\n",
    "        \n",
    "    inv_root = TreeNode(val = root.val)\n",
    "    queue = collections.deque([root])\n",
    "    inv_queue = collections.deque([inv_root])\n",
    "    \n",
    "    while queue:\n",
    "        for _ in range(len(queue)):\n",
    "            cur_node = queue.popleft()\n",
    "            inv_cur_node = inv_queue.popleft()\n",
    "            \n",
    "            # 우측자식노드부터 큐에 추가\n",
    "            if cur_node.right != None:\n",
    "                queue.append(cur_node.right)\n",
    "                inv_cur_node.left = TreeNode(val=cur_node.right.val)\n",
    "                inv_queue.append(inv_cur_node.left)\n",
    "                \n",
    "            if cur_node.left != None:\n",
    "                queue.append(cur_node.left)\n",
    "                inv_cur_node.right = TreeNode(val=cur_node.left.val)\n",
    "                inv_queue.append(inv_cur_node.right)\n",
    "    \n",
    "    return inv_root"
   ]
  },
  {
   "cell_type": "code",
   "execution_count": 50,
   "metadata": {},
   "outputs": [
    {
     "name": "stdout",
     "output_type": "stream",
     "text": [
      "[4, 2, 7, 1, 3, 6, 9]\n",
      "[4, 7, 2, 9, 6, 3, 1]\n"
     ]
    }
   ],
   "source": [
    "# example - Q45 이진트리 반전\n",
    "tree = list2tree([4,2,7,1,3,6,9])\n",
    "print(tree2list(tree))\n",
    "\n",
    "inv_tree = invertTree(tree)\n",
    "print(tree2list(inv_tree))"
   ]
  },
  {
   "cell_type": "code",
   "execution_count": 56,
   "metadata": {},
   "outputs": [],
   "source": [
    "# solution 2 : 파이썬의 우아함\n",
    "\n",
    "def invertTree(root: TreeNode) -> TreeNode:\n",
    "    if root :\n",
    "        root.left, root.right =\\\n",
    "            invertTree(root.right), invertTree(root.left)\n",
    "        return root"
   ]
  },
  {
   "cell_type": "code",
   "execution_count": null,
   "metadata": {},
   "outputs": [],
   "source": [
    "# solution 3 : 반복 BFS\n",
    "\n",
    "def invertTree(root: TreeNode) -> TreeNode:\n",
    "    queue = collections.deque([root])\n",
    "    \n",
    "    while queue:\n",
    "        node = queue.popleft()\n",
    "        \n",
    "        if node:\n",
    "            # 현 노드 기준 자녀 스왑\n",
    "            node.left, node.right = node.right, node.left\n",
    "            # 스왑된 자녀들을 queue에 추가\n",
    "            queue.append(node.left)\n",
    "            queue.append(node.right)\n",
    "    return root"
   ]
  },
  {
   "cell_type": "code",
   "execution_count": null,
   "metadata": {},
   "outputs": [],
   "source": [
    "# solution 4 : 반복 DFS (전위순회)\n",
    "\n",
    "def invertTree(root: TreeNode) -> TreeNode:\n",
    "    stack = collections.deque([root])\n",
    "    \n",
    "    while stack:\n",
    "        node = stack.pop()\n",
    "        \n",
    "        if node:\n",
    "            # 현 노드 기준 자녀 스왑\n",
    "            node.left, node.right = node.right, node.left\n",
    "            # 스왑한 자녀들을 스택에 추가\n",
    "            stack.append(node.left)\n",
    "            stack.append(node.right)\n",
    "            \n",
    "    return root"
   ]
  },
  {
   "cell_type": "code",
   "execution_count": null,
   "metadata": {},
   "outputs": [],
   "source": [
    "# solution 5 : 반복 DFS (후위순회)\n",
    "\n",
    "def invertTree(root: TreeNode) -> TreeNode:\n",
    "    stack = collections.deque([root])\n",
    "    \n",
    "    while stack:\n",
    "        node = stack.pop()\n",
    "        \n",
    "        if node:\n",
    "            # 자녀들을 스택에 추가\n",
    "            stack.append(node.left)\n",
    "            stack.append(node.right)\n",
    "            \n",
    "            # 현 노드 기준 자녀 스왑\n",
    "            node.left, node.right = node.right, node.left\n",
    "    return root"
   ]
  },
  {
   "cell_type": "markdown",
   "metadata": {},
   "source": [
    "# Q 46 두 이진트리 병합\n",
    "https://leetcode.com/problems/merge-two-binary-trees/"
   ]
  },
  {
   "cell_type": "code",
   "execution_count": null,
   "metadata": {},
   "outputs": [],
   "source": [
    "def mergeTrees(root1: TreeNode, root2: TreeNode) -> TreeNode:\n",
    "    if t1 and t2:\n",
    "        node = TreeNode(t1.val + t2.val)\n",
    "        node.left = self.mergeTrees(t1.left, t2.left)\n",
    "        node.right = self.mergeTrees(t1.right, t2.right)\n",
    "        return node\n",
    "    \n",
    "    else:\n",
    "        return t1 or t2"
   ]
  }
 ],
 "metadata": {
  "kernelspec": {
   "display_name": "Python 3",
   "language": "python",
   "name": "python3"
  },
  "language_info": {
   "codemirror_mode": {
    "name": "ipython",
    "version": 3
   },
   "file_extension": ".py",
   "mimetype": "text/x-python",
   "name": "python",
   "nbconvert_exporter": "python",
   "pygments_lexer": "ipython3",
   "version": "3.7.6"
  }
 },
 "nbformat": 4,
 "nbformat_minor": 4
}
