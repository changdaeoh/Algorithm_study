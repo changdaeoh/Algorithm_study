{
 "cells": [
  {
   "cell_type": "markdown",
   "metadata": {},
   "source": [
    "<img src = \"https://github.com/changdaeoh/Algorithm_study/blob/main/images/ch14_tree.png?raw=true\" width = \"70%\" height = \"70%\">\n",
    "\n",
    "## 트리의 속성\n",
    "* 재귀적으로 정의된 자기참조 자료구조 - 자식도 트리, 그 자식도 트리\n",
    "* 순환구조를 갖지 않는다.\n",
    "* 모든 노드는 단 하나의 부모 노드를 가진다.\n",
    "* 트리의 시작인 루트노드는 반드시 하나여야함\n",
    "* 부모 to 자식. 단방향으로만 정의된다.\n",
    "---\n",
    "\n",
    "<br/>\n",
    "\n",
    "## 이진트리\n",
    "* 모든 노드의 차수가 2 이하인 트리\n",
    "* **왼쪽 자식과 오른쪽 자식을 구분하는 트리**\n",
    "* 공백 노드도 자식 노드로 취급\n",
    "<img src = \"https://github.com/changdaeoh/Algorithm_study/blob/main/images/14_3.png?raw=true\" width = \"80%\" height = \"80%\">\n",
    "\n",
    "---\n",
    "\n",
    "<br/>\n",
    "\n",
    "### 이진트리의 특성\n",
    "* 노드가 n개인 이진트리는 항상 edge수가 n-1개\n",
    "* 높이가 h개인 이진 트리가 가질 수 있는 노드의 개수는 최소 h+1 최대 2^(h+1)-1"
   ]
  },
  {
   "cell_type": "markdown",
   "metadata": {},
   "source": [
    "# q42 이진트리 최대깊이"
   ]
  },
  {
   "cell_type": "code",
   "execution_count": 16,
   "metadata": {},
   "outputs": [],
   "source": [
    "class TreeNode:\n",
    "    def __init__(self, val=0, left=None, right=None):\n",
    "        self.val = val\n",
    "        self.left = left\n",
    "        self.right = right"
   ]
  },
  {
   "cell_type": "code",
   "execution_count": 6,
   "metadata": {},
   "outputs": [],
   "source": [
    "t3_1 = TreeNode(15, None, None)\n",
    "t3_2 = TreeNode(7, None, None)\n",
    "t2_1 = TreeNode(9, None, None)\n",
    "t2_2 = TreeNode(20, t3_1, t3_2)\n",
    "t1_1 = TreeNode(3, t2_1, t2_2)"
   ]
  },
  {
   "cell_type": "code",
   "execution_count": 13,
   "metadata": {},
   "outputs": [
    {
     "name": "stdout",
     "output_type": "stream",
     "text": [
      "3\n"
     ]
    }
   ],
   "source": [
    "node_list = [t1_1]\n",
    "cnt = 0\n",
    "\n",
    "while node_list:\n",
    "    cnt += 1\n",
    "    for _ in range(len(node_list)):\n",
    "        cur_node = node_list.pop(0)\n",
    "        if cur_node.left != None:\n",
    "            node_list.append(cur_node.left)\n",
    "        if cur_node.right != None:\n",
    "            node_list.append(cur_node.right)\n",
    "print(cnt) "
   ]
  },
  {
   "cell_type": "code",
   "execution_count": 14,
   "metadata": {},
   "outputs": [],
   "source": [
    "import collections\n",
    "\n",
    "class Solution:\n",
    "    def maxDepth(self, root: TreeNode) -> int:\n",
    "        if root is None:\n",
    "            return 0\n",
    "        # 여기서 큐는 '각 층'의 모든 노드들을 저장하기위한 객체\n",
    "        queue = collections.deque([root])\n",
    "        depth = 0\n",
    "\n",
    "        while queue:\n",
    "            depth += 1\n",
    "            # queue에 담겨있는 현재 계층의 노드들을 하나씩 추출\n",
    "            # 그 자식노드들 새로이 추가.\n",
    "            # 추출 횟수를 len(queue) 으로 설정하여 정확한 세대교체가 이루어짐\n",
    "            for _ in range(len(queue)):\n",
    "                cur_root = queue.popleft()\n",
    "                if cur_root.left:\n",
    "                    queue.append(cur_root.left)\n",
    "                if cur_root.right:\n",
    "                    queue.append(cur_root.right)\n",
    "        # queue 교체횟수 = 트리의 깊이\n",
    "        return depth"
   ]
  },
  {
   "cell_type": "markdown",
   "metadata": {},
   "source": [
    "# q43 이진트리의 직경\n",
    "https://leetcode.com/problems/diameter-of-binary-tree/submissions/"
   ]
  },
  {
   "cell_type": "markdown",
   "metadata": {},
   "source": [
    "<img src = \"https://github.com/changdaeoh/Algorithm_study/blob/main/images/14_5.png?raw=true\" width = \"80%\" height = \"80%\">"
   ]
  },
  {
   "cell_type": "code",
   "execution_count": null,
   "metadata": {},
   "outputs": [],
   "source": [
    "import collections\n",
    "\n",
    "class Solution:\n",
    "    longest: int = 0\n",
    "\n",
    "    def diameterOfBinaryTree(self, root: TreeNode) -> int:\n",
    "        def dfs(node: TreeNode) -> int:\n",
    "            if not node:\n",
    "                return -1\n",
    "            # 왼쪽, 오른쪽 각각 리프 노드까지 탐색\n",
    "            left = dfs(node.left)\n",
    "            right = dfs(node.right)\n",
    "\n",
    "            # 가장 긴 경로 : 자식들의 상태값의 합 + 2(두 자식간 거리)\n",
    "            self.longest = max(self.longest, left + right + 2)\n",
    "            # 상태값 : 리프로부터의 거리 = 자식의 최대 상태값 + 1(자식 to 나)\n",
    "            return max(left, right) + 1\n",
    "\n",
    "        dfs(root)\n",
    "        return self.longest"
   ]
  },
  {
   "cell_type": "code",
   "execution_count": 34,
   "metadata": {},
   "outputs": [],
   "source": [
    "# import copy\n",
    "\n",
    "# def bfs(root) -> int:\n",
    "#         queue = collections.deque([root])\n",
    "#         depth = 0\n",
    "        \n",
    "#         while queue:\n",
    "#             depth += 1\n",
    "#             for _ in range(len(queue)):\n",
    "#                 cur_root = queue.popleft()\n",
    "#                 if cur_root.left:\n",
    "#                     queue.append(cur_root.left)\n",
    "#                 if cur_root.right:\n",
    "#                     queue.append(cur_root.right)\n",
    "#         return depth\n",
    "\n",
    "# def diameterOfBinaryTree(root: TreeNode) -> int:\n",
    "#     if root is None:\n",
    "#         return 0\n",
    "        \n",
    "#     root_l = root.left\n",
    "#     root_r = root.right\n",
    "                    \n",
    "#     return bfs(root_l) + bfs(root_r)"
   ]
  },
  {
   "cell_type": "markdown",
   "metadata": {},
   "source": [
    "# q44 가장 긴 동일값의 경로\n",
    "https://leetcode.com/problems/longest-univalue-path/"
   ]
  },
  {
   "cell_type": "code",
   "execution_count": null,
   "metadata": {},
   "outputs": [],
   "source": [
    "class Solution:\n",
    "    result:int = 0\n",
    "        \n",
    "    def longestUnivaluePath(self, root: TreeNode) -> int:\n",
    "        def dfs(node: TreeNode):\n",
    "            if node is None:\n",
    "                return 0\n",
    "            \n",
    "            # 말단까지 dfs 재귀탐색\n",
    "            left = dfs(node.left)\n",
    "            right = dfs(node.right)\n",
    "            \n",
    "            # 현재 노드와 자식 노드간 연결관계 확인\n",
    "            if node.left and node.left.val == node.val:\n",
    "                left += 1\n",
    "            else :\n",
    "                left = 0\n",
    "            if node.right and node.right.val == node.val:\n",
    "                right += 1\n",
    "            else :\n",
    "                right = 0\n",
    "            \n",
    "            # 현재 순회노드에서의 최장경로는 좌 우 자식노드 상태값의 합 vs 이전최대값\n",
    "            self.result = max(self.result, left + right)\n",
    "            # 자식노드 상태값중 큰값을 현재 노드의 상태값으로 취함\n",
    "            return max(left, right)\n",
    "        \n",
    "        dfs(root)\n",
    "        return self.result\n",
    "            "
   ]
  }
 ],
 "metadata": {
  "kernelspec": {
   "display_name": "Python 3",
   "language": "python",
   "name": "python3"
  },
  "language_info": {
   "codemirror_mode": {
    "name": "ipython",
    "version": 3
   },
   "file_extension": ".py",
   "mimetype": "text/x-python",
   "name": "python",
   "nbconvert_exporter": "python",
   "pygments_lexer": "ipython3",
   "version": "3.7.6"
  }
 },
 "nbformat": 4,
 "nbformat_minor": 4
}
